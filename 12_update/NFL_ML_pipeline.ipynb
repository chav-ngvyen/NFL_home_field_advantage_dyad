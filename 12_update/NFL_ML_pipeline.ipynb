{
 "cells": [
  {
   "cell_type": "code",
   "execution_count": 16,
   "id": "275bf34e",
   "metadata": {},
   "outputs": [],
   "source": [
    "# Data Management/Investigation\n",
    "import pandas as pd\n",
    "import numpy as np\n",
    "\n",
    "# Data Visualization\n",
    "from plotnine import *\n",
    "import matplotlib.pyplot as plt\n",
    "import seaborn as sns\n",
    "\n",
    "# For pre-processing data \n",
    "from sklearn import preprocessing as pp \n",
    "from sklearn.compose import ColumnTransformer \n",
    "\n",
    "# For splits and CV\n",
    "from sklearn.model_selection import train_test_split\n",
    "from sklearn.model_selection import KFold # Cross validation \n",
    "from sklearn.model_selection import cross_validate # Cross validation \n",
    "from sklearn.model_selection import GridSearchCV # Cross validation + param. tuning.\n",
    "\n",
    "# For evaluating our model's performance\n",
    "import sklearn.metrics as m\n",
    "\n",
    "# Pipeline to combine modeling elements\n",
    "from sklearn.pipeline import Pipeline\n",
    "\n",
    "# Machine learning methods \n",
    "from sklearn.naive_bayes import GaussianNB as NB\n",
    "from sklearn.neighbors import KNeighborsClassifier as KNN\n",
    "from sklearn.tree import DecisionTreeClassifier as DT\n",
    "from sklearn.tree import DecisionTreeRegressor as DT_reg\n",
    "from sklearn.ensemble import RandomForestClassifier as RF\n",
    "from sklearn import tree # For plotting the decision tree rule\n",
    "\n",
    "# For model interpretation\n",
    "from sklearn.inspection import (\n",
    "    permutation_importance,\n",
    "    partial_dependence, \n",
    "    PartialDependenceDisplay, \n",
    "    plot_partial_dependence\n",
    ")\n",
    "\n",
    "# Misc\n",
    "import warnings\n",
    "warnings.filterwarnings(\"ignore\")\n"
   ]
  },
  {
   "cell_type": "code",
   "execution_count": 2,
   "id": "11102e0b",
   "metadata": {},
   "outputs": [],
   "source": [
    "# Read\n",
    "df = pd.read_csv(\"../07_data_staged/clean_data.csv\")\n",
    "# Drop\n",
    "df = df.drop(columns=[\"Week\",\"Season\",\"Team_A\",\"Team_B\",\"Game_pts_diff\",\"Game_yards_diff\",\"Game_TO\",\"Game_yds\"])\n",
    "# Convert\n",
    "for col in ['Division_Rival','Conference_Rival', 'Grass', 'Home','Same_surface','Win']:\n",
    "    df[col] = df[col].astype('category')"
   ]
  },
  {
   "cell_type": "markdown",
   "id": "696ea1ff",
   "metadata": {},
   "source": [
    "# Train-test split"
   ]
  },
  {
   "cell_type": "code",
   "execution_count": 3,
   "id": "1cac07f9",
   "metadata": {},
   "outputs": [],
   "source": [
    "# Train test split\n",
    "y = df['Win']\n",
    "X = df.drop(columns=\"Win\")\n",
    "train_X, test_X, train_y, test_y = train_test_split(X,y,test_size = .25,random_state=42)"
   ]
  },
  {
   "cell_type": "markdown",
   "id": "9acd7bdc",
   "metadata": {},
   "source": [
    "# Train model"
   ]
  },
  {
   "cell_type": "markdown",
   "id": "3ee966a0",
   "metadata": {},
   "source": [
    "## Cross validation"
   ]
  },
  {
   "cell_type": "code",
   "execution_count": 4,
   "id": "3faade54",
   "metadata": {},
   "outputs": [],
   "source": [
    "# Set the folds index to ensure comparable samples\n",
    "fold_generator = KFold(n_splits=10, shuffle=True,random_state=1234)"
   ]
  },
  {
   "cell_type": "markdown",
   "id": "6f77ef35",
   "metadata": {},
   "source": [
    "### Initialize pipeline\n",
    "\n",
    "Note that we still want to scale values, but we want to do this in the pipeline since it utilizes information we'll only learn from the training data (i.e. min/max, mean, std, etc.)\n"
   ]
  },
  {
   "cell_type": "code",
   "execution_count": 5,
   "id": "5017d586",
   "metadata": {},
   "outputs": [],
   "source": [
    "pipe = Pipeline(steps=[('pre_process', pp.MinMaxScaler()),('model',None)])"
   ]
  },
  {
   "cell_type": "markdown",
   "id": "76135157",
   "metadata": {},
   "source": [
    "### Select Models & Tuning Parameters\n"
   ]
  },
  {
   "cell_type": "code",
   "execution_count": 6,
   "id": "26211659",
   "metadata": {},
   "outputs": [],
   "source": [
    "search_space = [\n",
    "    \n",
    "    # NaiveBayes\n",
    "    {'model': [NB()]},\n",
    "    \n",
    "    # KNN with K tuning param\n",
    "    {'model' : [KNN()],\n",
    "     'model__n_neighbors':[5,10,25,50]},\n",
    "    \n",
    "    # Decision Tree with the Max Depth Param\n",
    "    {'model': [DT()],\n",
    "     'model__max_depth':[2,3,4]},\n",
    "    \n",
    "    # Random forest with the N Estimators tuning param\n",
    "    {'model' : [RF()],\n",
    "    'model__max_depth':[2,3,4],\n",
    "    'model__n_estimators':[500,1000,1500]}   \n",
    "]"
   ]
  },
  {
   "cell_type": "markdown",
   "id": "40a506e8",
   "metadata": {},
   "source": [
    "# Alternative method"
   ]
  },
  {
   "cell_type": "code",
   "execution_count": 32,
   "id": "c5631b5a",
   "metadata": {},
   "outputs": [],
   "source": [
    "from sklearn.neural_network import MLPClassifier\n",
    "from sklearn.neighbors import KNeighborsClassifier\n",
    "from sklearn.svm import SVC\n",
    "from sklearn.gaussian_process import GaussianProcessClassifier\n",
    "from sklearn.gaussian_process.kernels import RBF\n",
    "from sklearn.tree import DecisionTreeClassifier\n",
    "from sklearn.naive_bayes import GaussianNB\n",
    "from sklearn.discriminant_analysis import QuadraticDiscriminantAnalysis\n",
    "from sklearn.ensemble import RandomForestClassifier, AdaBoostClassifier, GradientBoostingClassifier\n",
    "\n",
    "search_space = [\n",
    "    {'model': [MLPClassifier()]},    \n",
    "    {'model' : [KNeighborsClassifier()]},\n",
    "    {'model': [SVC()]},\n",
    "    {'model' : [GaussianProcessClassifier()]},\n",
    "    {'model': [RBF()]},\n",
    "    {'model' : [DecisionTreeClassifier()]},\n",
    "    {'model': [GaussianNB()]},\n",
    "    {'model' : [QuadraticDiscriminantAnalysis()]},\n",
    "    {'model' : [RandomForestClassifier()]},\n",
    "    {'model': [AdaBoostClassifier()]},\n",
    "    {'model' : [GradientBoostingClassifier()]},    \n",
    "]"
   ]
  },
  {
   "cell_type": "markdown",
   "id": "796928f2",
   "metadata": {},
   "source": [
    "### Run models in a GridSearch"
   ]
  },
  {
   "cell_type": "code",
   "execution_count": 33,
   "id": "733d5f84",
   "metadata": {},
   "outputs": [
    {
     "name": "stdout",
     "output_type": "stream",
     "text": [
      "Fitting 10 folds for each of 11 candidates, totalling 110 fits\n",
      "[CV] END ..............................model=MLPClassifier(); total time=   0.9s\n",
      "[CV] END .......................model=KNeighborsClassifier(); total time=   0.0s\n",
      "[CV] END .......................model=KNeighborsClassifier(); total time=   0.0s\n",
      "[CV] END .......................model=KNeighborsClassifier(); total time=   0.0s\n",
      "[CV] END .......................model=KNeighborsClassifier(); total time=   0.0s\n",
      "[CV] END ........................................model=SVC(); total time=   2.1s\n",
      "[CV] END ..............................model=MLPClassifier(); total time=   1.1s\n",
      "[CV] END .......................model=KNeighborsClassifier(); total time=   0.0s\n",
      "[CV] END ........................................model=SVC(); total time=   2.1s\n",
      "[CV] END ..............................model=MLPClassifier(); total time=   1.0s\n",
      "[CV] END .......................model=KNeighborsClassifier(); total time=   0.0s\n",
      "[CV] END ........................................model=SVC(); total time=   2.2s\n",
      "[CV] END ..............................model=MLPClassifier(); total time=   0.9s\n",
      "[CV] END .......................model=KNeighborsClassifier(); total time=   0.0s\n",
      "[CV] END .......................model=KNeighborsClassifier(); total time=   0.0s\n",
      "[CV] END .......................model=KNeighborsClassifier(); total time=   0.0s\n",
      "[CV] END .......................model=KNeighborsClassifier(); total time=   0.0s\n",
      "[CV] END ........................................model=SVC(); total time=   2.3s\n",
      "[CV] END ..............................model=MLPClassifier(); total time=   1.3s\n",
      "[CV] END ........................................model=SVC(); total time=   2.2s\n",
      "[CV] END ..............................model=MLPClassifier(); total time=   1.4s\n",
      "[CV] END ........................................model=SVC(); total time=   2.2s\n",
      "[CV] END ..............................model=MLPClassifier(); total time=   1.7s\n",
      "[CV] END ........................................model=SVC(); total time=   2.3s\n",
      "[CV] END ..............................model=MLPClassifier(); total time=   2.2s\n",
      "[CV] END ........................................model=SVC(); total time=   2.2s\n",
      "[CV] END ..............................model=MLPClassifier(); total time=   2.7s\n",
      "[CV] END ........................................model=SVC(); total time=   2.5s\n",
      "[CV] END ..................model=GaussianProcessClassifier(); total time= 6.1min\n",
      "[CV] END ..............................model=MLPClassifier(); total time=   2.5s\n",
      "[CV] END ........................................model=SVC(); total time=   2.7s\n",
      "[CV] END ..................model=GaussianProcessClassifier(); total time= 6.2min\n"
     ]
    },
    {
     "data": {
      "text/plain": [
       "GridSearchCV(cv=KFold(n_splits=10, random_state=1234, shuffle=True),\n",
       "             estimator=Pipeline(steps=[('pre_process', MinMaxScaler()),\n",
       "                                       ('model', None)]),\n",
       "             n_jobs=-1,\n",
       "             param_grid=[{'model': [MLPClassifier()]},\n",
       "                         {'model': [KNeighborsClassifier()]},\n",
       "                         {'model': [SVC()]},\n",
       "                         {'model': [GaussianProcessClassifier()]},\n",
       "                         {'model': [RBF(length_scale=1)]},\n",
       "                         {'model': [DecisionTreeClassifier()]},\n",
       "                         {'model': [GaussianNB()]},\n",
       "                         {'model': [QuadraticDiscriminantAnalysis()]},\n",
       "                         {'model': [RandomForestClassifier()]},\n",
       "                         {'model': [AdaBoostClassifier()]},\n",
       "                         {'model': [GradientBoostingClassifier()]}],\n",
       "             scoring='roc_auc', verbose=2)"
      ]
     },
     "execution_count": 33,
     "metadata": {},
     "output_type": "execute_result"
    }
   ],
   "source": [
    "search = GridSearchCV(pipe, search_space, \n",
    "                      cv = fold_generator,\n",
    "                      scoring='roc_auc',\n",
    "                      n_jobs=-1, verbose = 2 )\n",
    "search.fit(train_X,train_y)"
   ]
  },
  {
   "cell_type": "markdown",
   "id": "129daad2",
   "metadata": {},
   "source": [
    "# Performance metrics"
   ]
  },
  {
   "cell_type": "code",
   "execution_count": 34,
   "id": "fe4fb66a",
   "metadata": {},
   "outputs": [
    {
     "data": {
      "text/plain": [
       "0.7236447813495159"
      ]
     },
     "execution_count": 34,
     "metadata": {},
     "output_type": "execute_result"
    }
   ],
   "source": [
    "# Best score\n",
    "search.best_score_"
   ]
  },
  {
   "cell_type": "code",
   "execution_count": 35,
   "id": "75e5d7a9",
   "metadata": {},
   "outputs": [
    {
     "data": {
      "text/plain": [
       "{'model': GaussianProcessClassifier()}"
      ]
     },
     "execution_count": 35,
     "metadata": {},
     "output_type": "execute_result"
    }
   ],
   "source": [
    "# Best parameter\n",
    "search.best_params_"
   ]
  },
  {
   "cell_type": "code",
   "execution_count": 36,
   "id": "de14d120",
   "metadata": {},
   "outputs": [],
   "source": [
    "# Select model\n",
    "model = search.best_estimator_"
   ]
  },
  {
   "cell_type": "markdown",
   "id": "be61c24a",
   "metadata": {},
   "source": [
    "### Performance on training data"
   ]
  },
  {
   "cell_type": "code",
   "execution_count": 37,
   "id": "5f37eaba",
   "metadata": {},
   "outputs": [
    {
     "data": {
      "text/plain": [
       "0.7362167735481431"
      ]
     },
     "execution_count": 37,
     "metadata": {},
     "output_type": "execute_result"
    }
   ],
   "source": [
    "# ROC AUC score on training data\n",
    "m.roc_auc_score(train_y,model.predict_proba(train_X)[:,1])"
   ]
  },
  {
   "cell_type": "code",
   "execution_count": 38,
   "id": "5525ae53",
   "metadata": {},
   "outputs": [
    {
     "data": {
      "text/plain": [
       "0.6672403901319564"
      ]
     },
     "execution_count": 38,
     "metadata": {},
     "output_type": "execute_result"
    }
   ],
   "source": [
    "# Accuracy score on training data\n",
    "m.accuracy_score(train_y,model.predict(train_X))"
   ]
  },
  {
   "cell_type": "markdown",
   "id": "9792ba51",
   "metadata": {},
   "source": [
    "# Model interpretability"
   ]
  },
  {
   "cell_type": "code",
   "execution_count": 39,
   "id": "e3f23b48",
   "metadata": {},
   "outputs": [],
   "source": [
    "vi = permutation_importance(model,train_X,train_y,n_repeats=5)"
   ]
  },
  {
   "cell_type": "code",
   "execution_count": 40,
   "id": "5f288487",
   "metadata": {},
   "outputs": [
    {
     "data": {
      "text/html": [
       "<div>\n",
       "<style scoped>\n",
       "    .dataframe tbody tr th:only-of-type {\n",
       "        vertical-align: middle;\n",
       "    }\n",
       "\n",
       "    .dataframe tbody tr th {\n",
       "        vertical-align: top;\n",
       "    }\n",
       "\n",
       "    .dataframe thead th {\n",
       "        text-align: right;\n",
       "    }\n",
       "</style>\n",
       "<table border=\"1\" class=\"dataframe\">\n",
       "  <thead>\n",
       "    <tr style=\"text-align: right;\">\n",
       "      <th></th>\n",
       "      <th>variable</th>\n",
       "      <th>vi</th>\n",
       "      <th>std</th>\n",
       "      <th>low</th>\n",
       "      <th>high</th>\n",
       "    </tr>\n",
       "  </thead>\n",
       "  <tbody>\n",
       "    <tr>\n",
       "      <th>0</th>\n",
       "      <td>Season_SRS</td>\n",
       "      <td>0.026181</td>\n",
       "      <td>0.001998</td>\n",
       "      <td>0.022185</td>\n",
       "      <td>0.030177</td>\n",
       "    </tr>\n",
       "    <tr>\n",
       "      <th>1</th>\n",
       "      <td>Home</td>\n",
       "      <td>0.018168</td>\n",
       "      <td>0.001497</td>\n",
       "      <td>0.015173</td>\n",
       "      <td>0.021163</td>\n",
       "    </tr>\n",
       "    <tr>\n",
       "      <th>2</th>\n",
       "      <td>Season_offense</td>\n",
       "      <td>0.015299</td>\n",
       "      <td>0.002008</td>\n",
       "      <td>0.011282</td>\n",
       "      <td>0.019316</td>\n",
       "    </tr>\n",
       "    <tr>\n",
       "      <th>3</th>\n",
       "      <td>Season_defense</td>\n",
       "      <td>0.011436</td>\n",
       "      <td>0.002691</td>\n",
       "      <td>0.006055</td>\n",
       "      <td>0.016818</td>\n",
       "    </tr>\n",
       "    <tr>\n",
       "      <th>4</th>\n",
       "      <td>Season_SoS</td>\n",
       "      <td>0.010882</td>\n",
       "      <td>0.001038</td>\n",
       "      <td>0.008806</td>\n",
       "      <td>0.012957</td>\n",
       "    </tr>\n",
       "    <tr>\n",
       "      <th>5</th>\n",
       "      <td>Same_surface</td>\n",
       "      <td>0.002104</td>\n",
       "      <td>0.000415</td>\n",
       "      <td>0.001274</td>\n",
       "      <td>0.002933</td>\n",
       "    </tr>\n",
       "    <tr>\n",
       "      <th>6</th>\n",
       "      <td>Attendance_pct</td>\n",
       "      <td>0.002046</td>\n",
       "      <td>0.001323</td>\n",
       "      <td>-0.000600</td>\n",
       "      <td>0.004692</td>\n",
       "    </tr>\n",
       "    <tr>\n",
       "      <th>7</th>\n",
       "      <td>Miles_traveled</td>\n",
       "      <td>0.001014</td>\n",
       "      <td>0.000610</td>\n",
       "      <td>-0.000206</td>\n",
       "      <td>0.002233</td>\n",
       "    </tr>\n",
       "    <tr>\n",
       "      <th>8</th>\n",
       "      <td>Attendance</td>\n",
       "      <td>0.000918</td>\n",
       "      <td>0.000771</td>\n",
       "      <td>-0.000624</td>\n",
       "      <td>0.002460</td>\n",
       "    </tr>\n",
       "    <tr>\n",
       "      <th>9</th>\n",
       "      <td>Division_Rival</td>\n",
       "      <td>0.000822</td>\n",
       "      <td>0.000601</td>\n",
       "      <td>-0.000379</td>\n",
       "      <td>0.002023</td>\n",
       "    </tr>\n",
       "    <tr>\n",
       "      <th>10</th>\n",
       "      <td>Time_diff</td>\n",
       "      <td>0.000765</td>\n",
       "      <td>0.000373</td>\n",
       "      <td>0.000019</td>\n",
       "      <td>0.001511</td>\n",
       "    </tr>\n",
       "    <tr>\n",
       "      <th>11</th>\n",
       "      <td>Conference_Rival</td>\n",
       "      <td>0.000727</td>\n",
       "      <td>0.000833</td>\n",
       "      <td>-0.000939</td>\n",
       "      <td>0.002392</td>\n",
       "    </tr>\n",
       "    <tr>\n",
       "      <th>12</th>\n",
       "      <td>Time_rest_hours</td>\n",
       "      <td>0.000535</td>\n",
       "      <td>0.000630</td>\n",
       "      <td>-0.000725</td>\n",
       "      <td>0.001796</td>\n",
       "    </tr>\n",
       "    <tr>\n",
       "      <th>13</th>\n",
       "      <td>Grass</td>\n",
       "      <td>-0.000612</td>\n",
       "      <td>0.000754</td>\n",
       "      <td>-0.002121</td>\n",
       "      <td>0.000897</td>\n",
       "    </tr>\n",
       "    <tr>\n",
       "      <th>14</th>\n",
       "      <td>Capacity</td>\n",
       "      <td>-0.001243</td>\n",
       "      <td>0.000874</td>\n",
       "      <td>-0.002992</td>\n",
       "      <td>0.000506</td>\n",
       "    </tr>\n",
       "  </tbody>\n",
       "</table>\n",
       "</div>"
      ],
      "text/plain": [
       "            variable        vi       std       low      high\n",
       "0         Season_SRS  0.026181  0.001998  0.022185  0.030177\n",
       "1               Home  0.018168  0.001497  0.015173  0.021163\n",
       "2     Season_offense  0.015299  0.002008  0.011282  0.019316\n",
       "3     Season_defense  0.011436  0.002691  0.006055  0.016818\n",
       "4         Season_SoS  0.010882  0.001038  0.008806  0.012957\n",
       "5       Same_surface  0.002104  0.000415  0.001274  0.002933\n",
       "6     Attendance_pct  0.002046  0.001323 -0.000600  0.004692\n",
       "7     Miles_traveled  0.001014  0.000610 -0.000206  0.002233\n",
       "8         Attendance  0.000918  0.000771 -0.000624  0.002460\n",
       "9     Division_Rival  0.000822  0.000601 -0.000379  0.002023\n",
       "10         Time_diff  0.000765  0.000373  0.000019  0.001511\n",
       "11  Conference_Rival  0.000727  0.000833 -0.000939  0.002392\n",
       "12   Time_rest_hours  0.000535  0.000630 -0.000725  0.001796\n",
       "13             Grass -0.000612  0.000754 -0.002121  0.000897\n",
       "14          Capacity -0.001243  0.000874 -0.002992  0.000506"
      ]
     },
     "execution_count": 40,
     "metadata": {},
     "output_type": "execute_result"
    }
   ],
   "source": [
    "\n",
    "\n",
    "# Organize as a data frame \n",
    "vi_dat = pd.DataFrame(dict(variable=train_X.columns,\n",
    "                           vi = vi['importances_mean'],\n",
    "                           std = vi['importances_std']))\n",
    "\n",
    "# Generate intervals\n",
    "vi_dat['low'] = vi_dat['vi'] - 2*vi_dat['std']\n",
    "vi_dat['high'] = vi_dat['vi'] + 2*vi_dat['std']\n",
    "\n",
    "# But in order from most to least important\n",
    "vi_dat = vi_dat.sort_values(by=\"vi\",ascending=False).reset_index(drop=True)\n",
    "\n",
    "\n",
    "vi_dat"
   ]
  },
  {
   "cell_type": "code",
   "execution_count": 41,
   "id": "7f3550a6",
   "metadata": {},
   "outputs": [
    {
     "data": {
      "image/png": "[encoded data removed]",
      "text/plain": [
       "<Figure size 640x480 with 1 Axes>"
      ]
     },
     "metadata": {},
     "output_type": "display_data"
    },
    {
     "data": {
      "text/plain": [
       "<ggplot: (342918943)>"
      ]
     },
     "execution_count": 41,
     "metadata": {},
     "output_type": "execute_result"
    }
   ],
   "source": [
    "# Plot\n",
    "(\n",
    "    ggplot(vi_dat,\n",
    "          aes(x=\"variable\",y=\"vi\")) +\n",
    "    geom_col(alpha=.5) +\n",
    "    geom_point() +\n",
    "    geom_errorbar(aes(ymin=\"low\",ymax=\"high\"),width=.2) +\n",
    "    theme_bw() +\n",
    "    scale_x_discrete(limits=vi_dat.variable.tolist()) +\n",
    "    coord_flip() +\n",
    "    labs(y=\"Reduction in AUC ROC\",x=\"\")\n",
    ")\n"
   ]
  },
  {
   "cell_type": "markdown",
   "id": "4bbf87dd",
   "metadata": {},
   "source": [
    "# Predict & Out-of-sample performance"
   ]
  },
  {
   "cell_type": "code",
   "execution_count": 42,
   "id": "d7ccde86",
   "metadata": {},
   "outputs": [],
   "source": [
    "y_pred = model.predict(test_X)"
   ]
  },
  {
   "cell_type": "code",
   "execution_count": 43,
   "id": "9ad4caab",
   "metadata": {},
   "outputs": [
    {
     "data": {
      "text/plain": [
       "0.6448651749856569"
      ]
     },
     "execution_count": 43,
     "metadata": {},
     "output_type": "execute_result"
    }
   ],
   "source": [
    "# Accuracy score on test set\n",
    "m.accuracy_score(test_y,y_pred)"
   ]
  },
  {
   "cell_type": "code",
   "execution_count": 44,
   "id": "e3fcae4c",
   "metadata": {},
   "outputs": [
    {
     "data": {
      "text/plain": [
       "0.6452252273015361"
      ]
     },
     "execution_count": 44,
     "metadata": {},
     "output_type": "execute_result"
    }
   ],
   "source": [
    "# ROC AUC score\n",
    "m.roc_auc_score(test_y,y_pred)"
   ]
  },
  {
   "cell_type": "markdown",
   "id": "1ca5ad92",
   "metadata": {},
   "source": [
    "# ROC Curve\n",
    "\n",
    "First, we need the model to return **probabilities** not predictions."
   ]
  },
  {
   "cell_type": "code",
   "execution_count": 45,
   "id": "3676eb0f",
   "metadata": {},
   "outputs": [
    {
     "data": {
      "text/html": [
       "<div>\n",
       "<style scoped>\n",
       "    .dataframe tbody tr th:only-of-type {\n",
       "        vertical-align: middle;\n",
       "    }\n",
       "\n",
       "    .dataframe tbody tr th {\n",
       "        vertical-align: top;\n",
       "    }\n",
       "\n",
       "    .dataframe thead th {\n",
       "        text-align: right;\n",
       "    }\n",
       "</style>\n",
       "<table border=\"1\" class=\"dataframe\">\n",
       "  <thead>\n",
       "    <tr style=\"text-align: right;\">\n",
       "      <th></th>\n",
       "      <th>0</th>\n",
       "      <th>1</th>\n",
       "    </tr>\n",
       "  </thead>\n",
       "  <tbody>\n",
       "    <tr>\n",
       "      <th>0</th>\n",
       "      <td>0.608394</td>\n",
       "      <td>0.391606</td>\n",
       "    </tr>\n",
       "    <tr>\n",
       "      <th>1</th>\n",
       "      <td>0.227559</td>\n",
       "      <td>0.772441</td>\n",
       "    </tr>\n",
       "    <tr>\n",
       "      <th>2</th>\n",
       "      <td>0.462095</td>\n",
       "      <td>0.537905</td>\n",
       "    </tr>\n",
       "    <tr>\n",
       "      <th>3</th>\n",
       "      <td>0.193169</td>\n",
       "      <td>0.806831</td>\n",
       "    </tr>\n",
       "    <tr>\n",
       "      <th>4</th>\n",
       "      <td>0.777186</td>\n",
       "      <td>0.222814</td>\n",
       "    </tr>\n",
       "  </tbody>\n",
       "</table>\n",
       "</div>"
      ],
      "text/plain": [
       "          0         1\n",
       "0  0.608394  0.391606\n",
       "1  0.227559  0.772441\n",
       "2  0.462095  0.537905\n",
       "3  0.193169  0.806831\n",
       "4  0.777186  0.222814"
      ]
     },
     "execution_count": 45,
     "metadata": {},
     "output_type": "execute_result"
    }
   ],
   "source": [
    "probs = model.predict_proba(test_X)\n",
    "probs =  pd.DataFrame(probs,columns=model.classes_)\n",
    "probs.head()"
   ]
  },
  {
   "cell_type": "code",
   "execution_count": 46,
   "id": "08659ace",
   "metadata": {},
   "outputs": [],
   "source": [
    "# Generate the False Positive Rate and True Positive Rate Given different thresholds\n",
    "fpr, tpr, thresholds = m.roc_curve(test_y, probs[1])"
   ]
  },
  {
   "cell_type": "code",
   "execution_count": 47,
   "id": "2f9b9cd2",
   "metadata": {},
   "outputs": [
    {
     "data": {
      "image/png": "[encoded data removed]",
      "text/plain": [
       "<Figure size 700x500 with 1 Axes>"
      ]
     },
     "metadata": {
      "needs_background": "light"
     },
     "output_type": "display_data"
    },
    {
     "data": {
      "text/plain": [
       "<ggplot: (342917117)>"
      ]
     },
     "execution_count": 47,
     "metadata": {},
     "output_type": "execute_result"
    }
   ],
   "source": [
    "# Plot the ROC Curve\n",
    "( \n",
    "    ggplot(pd.DataFrame(dict(fpr=fpr,tpr=tpr)),\n",
    "           aes(x=\"fpr\",y=\"tpr\")) +\n",
    "    geom_path(color=\"steelblue\",size=1) +\n",
    "    geom_abline(intercept=0,slope=1,linetype=\"dashed\") +\n",
    "    theme_minimal() +\n",
    "    labs(title=\"ROC Curve\") +\n",
    "    theme(figure_size=(7,5))\n",
    ")"
   ]
  },
  {
   "cell_type": "code",
   "execution_count": null,
   "id": "4a4c31c4",
   "metadata": {},
   "outputs": [],
   "source": []
  }
 ],
 "metadata": {
  "kernelspec": {
   "display_name": "Python [conda env:text-data-class]",
   "language": "python",
   "name": "conda-env-text-data-class-py"
  },
  "language_info": {
   "codemirror_mode": {
    "name": "ipython",
    "version": 3
   },
   "file_extension": ".py",
   "mimetype": "text/x-python",
   "name": "python",
   "nbconvert_exporter": "python",
   "pygments_lexer": "ipython3",
   "version": "3.9.9"
  }
 },
 "nbformat": 4,
 "nbformat_minor": 5
}
