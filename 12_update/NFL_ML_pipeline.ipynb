{
 "cells": [
  {
   "cell_type": "code",
   "execution_count": 8,
   "id": "275bf34e",
   "metadata": {},
   "outputs": [],
   "source": [
    "# Data Management/Investigation\n",
    "import pandas as pd\n",
    "import numpy as np\n",
    "\n",
    "# Data Visualization\n",
    "from plotnine import *\n",
    "import matplotlib.pyplot as plt\n",
    "import seaborn as sns\n",
    "\n",
    "# For pre-processing data \n",
    "from sklearn import preprocessing as pp \n",
    "from sklearn.compose import ColumnTransformer \n",
    "\n",
    "# For splits and CV\n",
    "from sklearn.model_selection import train_test_split\n",
    "from sklearn.model_selection import KFold # Cross validation \n",
    "from sklearn.model_selection import cross_validate # Cross validation \n",
    "from sklearn.model_selection import GridSearchCV # Cross validation + param. tuning.\n",
    "\n",
    "# For evaluating our model's performance\n",
    "import sklearn.metrics as m\n",
    "\n",
    "# Pipeline to combine modeling elements\n",
    "from sklearn.pipeline import Pipeline\n",
    "\n",
    "# Machine learning methods \n",
    "from sklearn.naive_bayes import GaussianNB as NB\n",
    "from sklearn.neighbors import KNeighborsClassifier as KNN\n",
    "from sklearn.tree import DecisionTreeClassifier as DT\n",
    "from sklearn.tree import DecisionTreeRegressor as DT_reg\n",
    "from sklearn.ensemble import RandomForestClassifier as RF\n",
    "from sklearn import tree # For plotting the decision tree rule\n",
    "\n",
    "# For model interpretation\n",
    "from sklearn.inspection import (\n",
    "    permutation_importance,\n",
    "    partial_dependence, \n",
    "    PartialDependenceDisplay, \n",
    "    plot_partial_dependence\n",
    ")\n",
    "\n",
    "# Misc\n",
    "import warnings\n",
    "warnings.filterwarnings(\"ignore\")\n"
   ]
  },
  {
   "cell_type": "code",
   "execution_count": 15,
   "id": "11102e0b",
   "metadata": {},
   "outputs": [],
   "source": [
    "# Read\n",
    "df = pd.read_csv(\"../07_data_staged/clean_data.csv\")\n",
    "# Drop\n",
    "df = df.drop(columns=[\"Week\",\"Season\",\"Team_A\",\"Team_B\",\"Game_pts_diff\",\"Game_yards_diff\",\"Game_TO\",\"Game_yds\"])\n",
    "# Convert\n",
    "for col in ['Division_Rival','Conference_Rival', 'Grass', 'Home','Same_surface','Win']:\n",
    "    df[col] = df[col].astype('category')"
   ]
  },
  {
   "cell_type": "markdown",
   "id": "696ea1ff",
   "metadata": {},
   "source": [
    "# Train-test split"
   ]
  },
  {
   "cell_type": "code",
   "execution_count": 16,
   "id": "1cac07f9",
   "metadata": {},
   "outputs": [],
   "source": [
    "# Train test split\n",
    "y = df[['Win','id']]\n",
    "X = df.drop(columns=[\"Win\",'id'])\n",
    "train_X, test_X, train_y, test_y = train_test_split(X,y,test_size = .25,random_state=42)"
   ]
  },
  {
   "cell_type": "code",
   "execution_count": 17,
   "id": "aa9252b7",
   "metadata": {},
   "outputs": [],
   "source": [
    "train_id = train_y['id']\n",
    "test_id = test_y['id']\n",
    "\n",
    "train_y = train_y['Win']\n",
    "test_y = test_y['Win']"
   ]
  },
  {
   "cell_type": "markdown",
   "id": "9acd7bdc",
   "metadata": {},
   "source": [
    "# Train model"
   ]
  },
  {
   "cell_type": "markdown",
   "id": "3ee966a0",
   "metadata": {},
   "source": [
    "## Cross validation"
   ]
  },
  {
   "cell_type": "code",
   "execution_count": 21,
   "id": "3faade54",
   "metadata": {},
   "outputs": [],
   "source": [
    "# Set the folds index to ensure comparable samples\n",
    "fold_generator = KFold(n_splits=10, shuffle=True,random_state=1234)"
   ]
  },
  {
   "cell_type": "markdown",
   "id": "6f77ef35",
   "metadata": {},
   "source": [
    "### Initialize pipeline\n",
    "\n",
    "Note that we still want to scale values, but we want to do this in the pipeline since it utilizes information we'll only learn from the training data (i.e. min/max, mean, std, etc.)\n"
   ]
  },
  {
   "cell_type": "code",
   "execution_count": 22,
   "id": "5017d586",
   "metadata": {},
   "outputs": [],
   "source": [
    "pipe = Pipeline(steps=[('pre_process', pp.MinMaxScaler()),('model',None)])"
   ]
  },
  {
   "cell_type": "markdown",
   "id": "76135157",
   "metadata": {},
   "source": [
    "### Select Models & Tuning Parameters\n"
   ]
  },
  {
   "cell_type": "code",
   "execution_count": 23,
   "id": "26211659",
   "metadata": {},
   "outputs": [],
   "source": [
    "search_space = [\n",
    "    \n",
    "    # NaiveBayes\n",
    "    {'model': [NB()]},\n",
    "    \n",
    "    # KNN with K tuning param\n",
    "    {'model' : [KNN()],\n",
    "     'model__n_neighbors':[5,10,25,50]},\n",
    "    \n",
    "    # Decision Tree with the Max Depth Param\n",
    "    {'model': [DT()],\n",
    "     'model__max_depth':[2,3,4]},\n",
    "    \n",
    "    # Random forest with the N Estimators tuning param\n",
    "    {'model' : [RF()],\n",
    "    'model__max_depth':[2,3,4],\n",
    "    'model__n_estimators':[500,1000,1500]}   \n",
    "]"
   ]
  },
  {
   "cell_type": "markdown",
   "id": "40a506e8",
   "metadata": {},
   "source": [
    "# Alternative method"
   ]
  },
  {
   "cell_type": "code",
   "execution_count": 32,
   "id": "c5631b5a",
   "metadata": {},
   "outputs": [],
   "source": [
    "# from sklearn.neural_network import MLPClassifier\n",
    "# from sklearn.neighbors import KNeighborsClassifier\n",
    "# from sklearn.svm import SVC\n",
    "# from sklearn.gaussian_process import GaussianProcessClassifier\n",
    "# from sklearn.gaussian_process.kernels import RBF\n",
    "# from sklearn.tree import DecisionTreeClassifier\n",
    "# from sklearn.naive_bayes import GaussianNB\n",
    "# from sklearn.discriminant_analysis import QuadraticDiscriminantAnalysis\n",
    "# from sklearn.ensemble import RandomForestClassifier, AdaBoostClassifier, GradientBoostingClassifier\n",
    "\n",
    "# search_space = [\n",
    "#     {'model': [MLPClassifier()]},    \n",
    "#     {'model' : [KNeighborsClassifier()]},\n",
    "#     {'model': [SVC()]},\n",
    "#     {'model' : [GaussianProcessClassifier()]},\n",
    "#     {'model': [RBF()]},\n",
    "#     {'model' : [DecisionTreeClassifier()]},\n",
    "#     {'model': [GaussianNB()]},\n",
    "#     {'model' : [QuadraticDiscriminantAnalysis()]},\n",
    "#     {'model' : [RandomForestClassifier()]},\n",
    "#     {'model': [AdaBoostClassifier()]},\n",
    "#     {'model' : [GradientBoostingClassifier()]},    \n",
    "# ]"
   ]
  },
  {
   "cell_type": "markdown",
   "id": "796928f2",
   "metadata": {},
   "source": [
    "### Run models in a GridSearch"
   ]
  },
  {
   "cell_type": "code",
   "execution_count": 25,
   "id": "733d5f84",
   "metadata": {},
   "outputs": [
    {
     "name": "stdout",
     "output_type": "stream",
     "text": [
      "Fitting 10 folds for each of 17 candidates, totalling 170 fits\n"
     ]
    },
    {
     "data": {
      "text/plain": [
       "GridSearchCV(cv=KFold(n_splits=10, random_state=1234, shuffle=True),\n",
       "             estimator=Pipeline(steps=[('pre_process', MinMaxScaler()),\n",
       "                                       ('model', None)]),\n",
       "             n_jobs=-1,\n",
       "             param_grid=[{'model': [GaussianNB()]},\n",
       "                         {'model': [KNeighborsClassifier()],\n",
       "                          'model__n_neighbors': [5, 10, 25, 50]},\n",
       "                         {'model': [DecisionTreeClassifier()],\n",
       "                          'model__max_depth': [2, 3, 4]},\n",
       "                         {'model': [RandomForestClassifier(max_depth=4,\n",
       "                                                           n_estimators=500)],\n",
       "                          'model__max_depth': [2, 3, 4],\n",
       "                          'model__n_estimators': [500, 1000, 1500]}],\n",
       "             scoring='roc_auc', verbose=2)"
      ]
     },
     "execution_count": 25,
     "metadata": {},
     "output_type": "execute_result"
    }
   ],
   "source": [
    "search = GridSearchCV(pipe, search_space, \n",
    "                      cv = fold_generator,\n",
    "                      scoring='roc_auc',\n",
    "                      n_jobs=-1, verbose = 2 )\n",
    "search.fit(train_X,train_y)"
   ]
  },
  {
   "cell_type": "markdown",
   "id": "129daad2",
   "metadata": {},
   "source": [
    "# Performance metrics"
   ]
  },
  {
   "cell_type": "code",
   "execution_count": 26,
   "id": "fe4fb66a",
   "metadata": {},
   "outputs": [
    {
     "data": {
      "text/plain": [
       "0.7165152524782502"
      ]
     },
     "execution_count": 26,
     "metadata": {},
     "output_type": "execute_result"
    }
   ],
   "source": [
    "# Best score\n",
    "search.best_score_"
   ]
  },
  {
   "cell_type": "code",
   "execution_count": 27,
   "id": "75e5d7a9",
   "metadata": {},
   "outputs": [
    {
     "data": {
      "text/plain": [
       "{'model': RandomForestClassifier(max_depth=4, n_estimators=500),\n",
       " 'model__max_depth': 4,\n",
       " 'model__n_estimators': 500}"
      ]
     },
     "execution_count": 27,
     "metadata": {},
     "output_type": "execute_result"
    }
   ],
   "source": [
    "# Best parameter\n",
    "search.best_params_"
   ]
  },
  {
   "cell_type": "code",
   "execution_count": 28,
   "id": "de14d120",
   "metadata": {},
   "outputs": [],
   "source": [
    "# Select model\n",
    "model = search.best_estimator_"
   ]
  },
  {
   "cell_type": "markdown",
   "id": "be61c24a",
   "metadata": {},
   "source": [
    "### Performance on training data"
   ]
  },
  {
   "cell_type": "code",
   "execution_count": 29,
   "id": "5f37eaba",
   "metadata": {},
   "outputs": [
    {
     "data": {
      "text/plain": [
       "0.7295065364911864"
      ]
     },
     "execution_count": 29,
     "metadata": {},
     "output_type": "execute_result"
    }
   ],
   "source": [
    "# ROC AUC score on training data\n",
    "m.roc_auc_score(train_y,model.predict_proba(train_X)[:,1])"
   ]
  },
  {
   "cell_type": "code",
   "execution_count": 30,
   "id": "5525ae53",
   "metadata": {},
   "outputs": [
    {
     "data": {
      "text/plain": [
       "0.663798049340218"
      ]
     },
     "execution_count": 30,
     "metadata": {},
     "output_type": "execute_result"
    }
   ],
   "source": [
    "# Accuracy score on training data\n",
    "m.accuracy_score(train_y,model.predict(train_X))"
   ]
  },
  {
   "cell_type": "markdown",
   "id": "9792ba51",
   "metadata": {},
   "source": [
    "# Model interpretability"
   ]
  },
  {
   "cell_type": "code",
   "execution_count": 31,
   "id": "e3f23b48",
   "metadata": {},
   "outputs": [],
   "source": [
    "vi = permutation_importance(model,train_X,train_y,n_repeats=5)"
   ]
  },
  {
   "cell_type": "code",
   "execution_count": 32,
   "id": "5f288487",
   "metadata": {},
   "outputs": [
    {
     "data": {
      "text/html": [
       "<div>\n",
       "<style scoped>\n",
       "    .dataframe tbody tr th:only-of-type {\n",
       "        vertical-align: middle;\n",
       "    }\n",
       "\n",
       "    .dataframe tbody tr th {\n",
       "        vertical-align: top;\n",
       "    }\n",
       "\n",
       "    .dataframe thead th {\n",
       "        text-align: right;\n",
       "    }\n",
       "</style>\n",
       "<table border=\"1\" class=\"dataframe\">\n",
       "  <thead>\n",
       "    <tr style=\"text-align: right;\">\n",
       "      <th></th>\n",
       "      <th>variable</th>\n",
       "      <th>vi</th>\n",
       "      <th>std</th>\n",
       "      <th>low</th>\n",
       "      <th>high</th>\n",
       "    </tr>\n",
       "  </thead>\n",
       "  <tbody>\n",
       "    <tr>\n",
       "      <th>0</th>\n",
       "      <td>Season_SRS</td>\n",
       "      <td>0.048575</td>\n",
       "      <td>0.002294</td>\n",
       "      <td>0.043987</td>\n",
       "      <td>0.053163</td>\n",
       "    </tr>\n",
       "    <tr>\n",
       "      <th>1</th>\n",
       "      <td>Season_offense</td>\n",
       "      <td>0.009313</td>\n",
       "      <td>0.003013</td>\n",
       "      <td>0.003287</td>\n",
       "      <td>0.015340</td>\n",
       "    </tr>\n",
       "    <tr>\n",
       "      <th>2</th>\n",
       "      <td>Miles_traveled</td>\n",
       "      <td>0.006942</td>\n",
       "      <td>0.001485</td>\n",
       "      <td>0.003973</td>\n",
       "      <td>0.009911</td>\n",
       "    </tr>\n",
       "    <tr>\n",
       "      <th>3</th>\n",
       "      <td>Home</td>\n",
       "      <td>0.004628</td>\n",
       "      <td>0.001309</td>\n",
       "      <td>0.002010</td>\n",
       "      <td>0.007246</td>\n",
       "    </tr>\n",
       "    <tr>\n",
       "      <th>4</th>\n",
       "      <td>Season_SoS</td>\n",
       "      <td>0.003175</td>\n",
       "      <td>0.001791</td>\n",
       "      <td>-0.000408</td>\n",
       "      <td>0.006757</td>\n",
       "    </tr>\n",
       "    <tr>\n",
       "      <th>5</th>\n",
       "      <td>Attendance_pct</td>\n",
       "      <td>0.002065</td>\n",
       "      <td>0.000835</td>\n",
       "      <td>0.000396</td>\n",
       "      <td>0.003735</td>\n",
       "    </tr>\n",
       "    <tr>\n",
       "      <th>6</th>\n",
       "      <td>Attendance</td>\n",
       "      <td>0.001186</td>\n",
       "      <td>0.000508</td>\n",
       "      <td>0.000169</td>\n",
       "      <td>0.002202</td>\n",
       "    </tr>\n",
       "    <tr>\n",
       "      <th>7</th>\n",
       "      <td>Time_diff</td>\n",
       "      <td>0.001167</td>\n",
       "      <td>0.001048</td>\n",
       "      <td>-0.000930</td>\n",
       "      <td>0.003263</td>\n",
       "    </tr>\n",
       "    <tr>\n",
       "      <th>8</th>\n",
       "      <td>Season_defense</td>\n",
       "      <td>0.000956</td>\n",
       "      <td>0.000676</td>\n",
       "      <td>-0.000396</td>\n",
       "      <td>0.002308</td>\n",
       "    </tr>\n",
       "    <tr>\n",
       "      <th>9</th>\n",
       "      <td>Same_surface</td>\n",
       "      <td>0.000708</td>\n",
       "      <td>0.000560</td>\n",
       "      <td>-0.000411</td>\n",
       "      <td>0.001827</td>\n",
       "    </tr>\n",
       "    <tr>\n",
       "      <th>10</th>\n",
       "      <td>Division_Rival</td>\n",
       "      <td>0.000669</td>\n",
       "      <td>0.000257</td>\n",
       "      <td>0.000156</td>\n",
       "      <td>0.001182</td>\n",
       "    </tr>\n",
       "    <tr>\n",
       "      <th>11</th>\n",
       "      <td>Time_rest_hours</td>\n",
       "      <td>0.000516</td>\n",
       "      <td>0.000323</td>\n",
       "      <td>-0.000130</td>\n",
       "      <td>0.001163</td>\n",
       "    </tr>\n",
       "    <tr>\n",
       "      <th>12</th>\n",
       "      <td>Grass</td>\n",
       "      <td>0.000382</td>\n",
       "      <td>0.000270</td>\n",
       "      <td>-0.000158</td>\n",
       "      <td>0.000923</td>\n",
       "    </tr>\n",
       "    <tr>\n",
       "      <th>13</th>\n",
       "      <td>Conference_Rival</td>\n",
       "      <td>0.000306</td>\n",
       "      <td>0.000165</td>\n",
       "      <td>-0.000023</td>\n",
       "      <td>0.000635</td>\n",
       "    </tr>\n",
       "    <tr>\n",
       "      <th>14</th>\n",
       "      <td>Capacity</td>\n",
       "      <td>0.000249</td>\n",
       "      <td>0.000356</td>\n",
       "      <td>-0.000463</td>\n",
       "      <td>0.000960</td>\n",
       "    </tr>\n",
       "  </tbody>\n",
       "</table>\n",
       "</div>"
      ],
      "text/plain": [
       "            variable        vi       std       low      high\n",
       "0         Season_SRS  0.048575  0.002294  0.043987  0.053163\n",
       "1     Season_offense  0.009313  0.003013  0.003287  0.015340\n",
       "2     Miles_traveled  0.006942  0.001485  0.003973  0.009911\n",
       "3               Home  0.004628  0.001309  0.002010  0.007246\n",
       "4         Season_SoS  0.003175  0.001791 -0.000408  0.006757\n",
       "5     Attendance_pct  0.002065  0.000835  0.000396  0.003735\n",
       "6         Attendance  0.001186  0.000508  0.000169  0.002202\n",
       "7          Time_diff  0.001167  0.001048 -0.000930  0.003263\n",
       "8     Season_defense  0.000956  0.000676 -0.000396  0.002308\n",
       "9       Same_surface  0.000708  0.000560 -0.000411  0.001827\n",
       "10    Division_Rival  0.000669  0.000257  0.000156  0.001182\n",
       "11   Time_rest_hours  0.000516  0.000323 -0.000130  0.001163\n",
       "12             Grass  0.000382  0.000270 -0.000158  0.000923\n",
       "13  Conference_Rival  0.000306  0.000165 -0.000023  0.000635\n",
       "14          Capacity  0.000249  0.000356 -0.000463  0.000960"
      ]
     },
     "execution_count": 32,
     "metadata": {},
     "output_type": "execute_result"
    }
   ],
   "source": [
    "\n",
    "\n",
    "# Organize as a data frame \n",
    "vi_dat = pd.DataFrame(dict(variable=train_X.columns,\n",
    "                           vi = vi['importances_mean'],\n",
    "                           std = vi['importances_std']))\n",
    "\n",
    "# Generate intervals\n",
    "vi_dat['low'] = vi_dat['vi'] - 2*vi_dat['std']\n",
    "vi_dat['high'] = vi_dat['vi'] + 2*vi_dat['std']\n",
    "\n",
    "# But in order from most to least important\n",
    "vi_dat = vi_dat.sort_values(by=\"vi\",ascending=False).reset_index(drop=True)\n",
    "\n",
    "\n",
    "vi_dat"
   ]
  },
  {
   "cell_type": "markdown",
   "id": "1ca5ad92",
   "metadata": {},
   "source": [
    "# ROC Curve on training data\n",
    "\n",
    "First, we need the model to return **probabilities** not predictions."
   ]
  },
  {
   "cell_type": "code",
   "execution_count": 42,
   "id": "3676eb0f",
   "metadata": {
    "scrolled": true
   },
   "outputs": [
    {
     "data": {
      "text/html": [
       "<div>\n",
       "<style scoped>\n",
       "    .dataframe tbody tr th:only-of-type {\n",
       "        vertical-align: middle;\n",
       "    }\n",
       "\n",
       "    .dataframe tbody tr th {\n",
       "        vertical-align: top;\n",
       "    }\n",
       "\n",
       "    .dataframe thead th {\n",
       "        text-align: right;\n",
       "    }\n",
       "</style>\n",
       "<table border=\"1\" class=\"dataframe\">\n",
       "  <thead>\n",
       "    <tr style=\"text-align: right;\">\n",
       "      <th></th>\n",
       "      <th>0</th>\n",
       "      <th>1</th>\n",
       "    </tr>\n",
       "  </thead>\n",
       "  <tbody>\n",
       "    <tr>\n",
       "      <th>0</th>\n",
       "      <td>0.689881</td>\n",
       "      <td>0.310119</td>\n",
       "    </tr>\n",
       "    <tr>\n",
       "      <th>1</th>\n",
       "      <td>0.537375</td>\n",
       "      <td>0.462625</td>\n",
       "    </tr>\n",
       "    <tr>\n",
       "      <th>2</th>\n",
       "      <td>0.374010</td>\n",
       "      <td>0.625990</td>\n",
       "    </tr>\n",
       "    <tr>\n",
       "      <th>3</th>\n",
       "      <td>0.366869</td>\n",
       "      <td>0.633131</td>\n",
       "    </tr>\n",
       "    <tr>\n",
       "      <th>4</th>\n",
       "      <td>0.275863</td>\n",
       "      <td>0.724137</td>\n",
       "    </tr>\n",
       "  </tbody>\n",
       "</table>\n",
       "</div>"
      ],
      "text/plain": [
       "          0         1\n",
       "0  0.689881  0.310119\n",
       "1  0.537375  0.462625\n",
       "2  0.374010  0.625990\n",
       "3  0.366869  0.633131\n",
       "4  0.275863  0.724137"
      ]
     },
     "execution_count": 42,
     "metadata": {},
     "output_type": "execute_result"
    }
   ],
   "source": [
    "probs = model.predict_proba(train_X)\n",
    "probs =  pd.DataFrame(probs,columns=model.classes_)\n",
    "probs.head()"
   ]
  },
  {
   "cell_type": "code",
   "execution_count": 43,
   "id": "08659ace",
   "metadata": {},
   "outputs": [],
   "source": [
    "# Generate the False Positive Rate and True Positive Rate Given different thresholds\n",
    "fpr, tpr, thresholds = m.roc_curve(train_y, probs[1])"
   ]
  },
  {
   "cell_type": "code",
   "execution_count": 44,
   "id": "2f9b9cd2",
   "metadata": {
    "scrolled": true
   },
   "outputs": [
    {
     "data": {
      "image/png": "[encoded data removed]",
      "text/plain": [
       "<Figure size 700x500 with 1 Axes>"
      ]
     },
     "metadata": {
      "needs_background": "light"
     },
     "output_type": "display_data"
    },
    {
     "data": {
      "text/plain": [
       "<ggplot: (351917472)>"
      ]
     },
     "execution_count": 44,
     "metadata": {},
     "output_type": "execute_result"
    }
   ],
   "source": [
    "# Plot the ROC Curve\n",
    "( \n",
    "    ggplot(pd.DataFrame(dict(fpr=fpr,tpr=tpr)),\n",
    "           aes(x=\"fpr\",y=\"tpr\")) +\n",
    "    geom_path(color=\"steelblue\",size=1) +\n",
    "    geom_abline(intercept=0,slope=1,linetype=\"dashed\") +\n",
    "    theme_minimal() +\n",
    "    labs(title=\"ROC Curve\") +\n",
    "    theme(figure_size=(7,5))\n",
    ")"
   ]
  },
  {
   "cell_type": "code",
   "execution_count": 33,
   "id": "7f3550a6",
   "metadata": {},
   "outputs": [
    {
     "data": {
      "image/png": "[encoded data removed]",
      "text/plain": [
       "<Figure size 640x480 with 1 Axes>"
      ]
     },
     "metadata": {},
     "output_type": "display_data"
    },
    {
     "data": {
      "text/plain": [
       "<ggplot: (274540623)>"
      ]
     },
     "execution_count": 33,
     "metadata": {},
     "output_type": "execute_result"
    }
   ],
   "source": [
    "# Plot\n",
    "(\n",
    "    ggplot(vi_dat,\n",
    "          aes(x=\"variable\",y=\"vi\")) +\n",
    "    geom_col(alpha=.5) +\n",
    "    geom_point() +\n",
    "    geom_errorbar(aes(ymin=\"low\",ymax=\"high\"),width=.2) +\n",
    "    theme_bw() +\n",
    "    scale_x_discrete(limits=vi_dat.variable.tolist()) +\n",
    "    coord_flip() +\n",
    "    labs(y=\"Reduction in AUC ROC\",x=\"\")\n",
    ")\n"
   ]
  },
  {
   "cell_type": "markdown",
   "id": "4bbf87dd",
   "metadata": {},
   "source": [
    "# Predict & Output"
   ]
  },
  {
   "cell_type": "code",
   "execution_count": 34,
   "id": "d7ccde86",
   "metadata": {},
   "outputs": [
    {
     "name": "stdout",
     "output_type": "stream",
     "text": [
      "[CV] END .................................model=GaussianNB(); total time=   0.0s\n",
      "[CV] END .model=KNeighborsClassifier(), model__n_neighbors=5; total time=   0.0s\n",
      "[CV] END .model=KNeighborsClassifier(), model__n_neighbors=5; total time=   0.0s\n",
      "[CV] END model=KNeighborsClassifier(), model__n_neighbors=10; total time=   0.0s\n",
      "[CV] END model=KNeighborsClassifier(), model__n_neighbors=25; total time=   0.0s\n",
      "[CV] END model=KNeighborsClassifier(), model__n_neighbors=50; total time=   0.0s\n",
      "[CV] END .model=DecisionTreeClassifier(), model__max_depth=2; total time=   0.0s\n",
      "[CV] END .model=DecisionTreeClassifier(), model__max_depth=2; total time=   0.0s\n",
      "[CV] END .model=DecisionTreeClassifier(), model__max_depth=4; total time=   0.0s\n",
      "[CV] END .model=DecisionTreeClassifier(), model__max_depth=4; total time=   0.0s\n",
      "[CV] END model=RandomForestClassifier(), model__max_depth=2, model__n_estimators=1000; total time=   2.6s\n",
      "[CV] END model=RandomForestClassifier(), model__max_depth=2, model__n_estimators=1000; total time=   2.6s\n",
      "[CV] END model=RandomForestClassifier(), model__max_depth=2, model__n_estimators=1000; total time=   2.7s\n",
      "[CV] END model=RandomForestClassifier(), model__max_depth=2, model__n_estimators=1000; total time=   2.5s\n",
      "[CV] END model=RandomForestClassifier(), model__max_depth=3, model__n_estimators=1500; total time=   5.1s\n",
      "[CV] END model=RandomForestClassifier(), model__max_depth=3, model__n_estimators=1500; total time=   4.7s\n",
      "[CV] END model=RandomForestClassifier(), model__max_depth=4, model__n_estimators=500; total time=   1.6s\n",
      "[CV] END model=RandomForestClassifier(), model__max_depth=4, model__n_estimators=500; total time=   1.6s\n",
      "[CV] END model=KNeighborsClassifier(), model__n_neighbors=10; total time=   0.0s\n",
      "[CV] END model=KNeighborsClassifier(), model__n_neighbors=10; total time=   0.0s\n",
      "[CV] END model=KNeighborsClassifier(), model__n_neighbors=50; total time=   0.1s\n",
      "[CV] END model=KNeighborsClassifier(), model__n_neighbors=50; total time=   0.0s\n",
      "[CV] END model=RandomForestClassifier(max_depth=4, n_estimators=500), model__max_depth=2, model__n_estimators=500; total time=   1.3s\n",
      "[CV] END model=RandomForestClassifier(max_depth=4, n_estimators=500), model__max_depth=2, model__n_estimators=500; total time=   1.3s\n",
      "[CV] END model=RandomForestClassifier(max_depth=4, n_estimators=500), model__max_depth=2, model__n_estimators=1000; total time=   2.6s\n",
      "[CV] END model=RandomForestClassifier(max_depth=4, n_estimators=500), model__max_depth=2, model__n_estimators=1000; total time=   2.8s\n",
      "[CV] END model=RandomForestClassifier(max_depth=4, n_estimators=500), model__max_depth=3, model__n_estimators=1500; total time=   5.1s\n",
      "[CV] END model=RandomForestClassifier(max_depth=4, n_estimators=500), model__max_depth=3, model__n_estimators=1500; total time=   5.3s\n",
      "[CV] END model=RandomForestClassifier(max_depth=4, n_estimators=500), model__max_depth=3, model__n_estimators=1500; total time=   5.0s\n",
      "[CV] END model=RandomForestClassifier(max_depth=4, n_estimators=500), model__max_depth=3, model__n_estimators=1500; total time=   5.0s\n",
      "[CV] END .................................model=GaussianNB(); total time=   0.0s\n",
      "[CV] END .model=KNeighborsClassifier(), model__n_neighbors=5; total time=   0.0s\n",
      "[CV] END model=KNeighborsClassifier(), model__n_neighbors=10; total time=   0.0s\n",
      "[CV] END model=KNeighborsClassifier(), model__n_neighbors=25; total time=   0.0s\n",
      "[CV] END model=KNeighborsClassifier(), model__n_neighbors=50; total time=   0.1s\n",
      "[CV] END .model=DecisionTreeClassifier(), model__max_depth=3; total time=   0.0s\n",
      "[CV] END .model=DecisionTreeClassifier(), model__max_depth=3; total time=   0.0s\n",
      "[CV] END model=RandomForestClassifier(), model__max_depth=2, model__n_estimators=500; total time=   1.3s\n",
      "[CV] END model=RandomForestClassifier(), model__max_depth=2, model__n_estimators=500; total time=   1.3s\n",
      "[CV] END model=RandomForestClassifier(), model__max_depth=3, model__n_estimators=1000; total time=   3.3s\n",
      "[CV] END model=RandomForestClassifier(), model__max_depth=3, model__n_estimators=1000; total time=   3.3s\n",
      "[CV] END model=RandomForestClassifier(), model__max_depth=3, model__n_estimators=1000; total time=   3.2s\n",
      "[CV] END model=RandomForestClassifier(), model__max_depth=3, model__n_estimators=1000; total time=   3.4s\n",
      "[CV] END model=RandomForestClassifier(), model__max_depth=4, model__n_estimators=1000; total time=   3.8s\n",
      "[CV] END model=RandomForestClassifier(), model__max_depth=4, model__n_estimators=1000; total time=   3.4s\n",
      "[CV] END model=RandomForestClassifier(), model__max_depth=4, model__n_estimators=1000; total time=   3.4s\n",
      "[CV] END model=RandomForestClassifier(), model__max_depth=4, model__n_estimators=1000; total time=   3.3s\n",
      "[CV] END .model=KNeighborsClassifier(), model__n_neighbors=5; total time=   0.0s\n",
      "[CV] END model=KNeighborsClassifier(), model__n_neighbors=25; total time=   0.0s\n",
      "[CV] END model=KNeighborsClassifier(), model__n_neighbors=25; total time=   0.0s\n",
      "[CV] END .model=DecisionTreeClassifier(), model__max_depth=2; total time=   0.0s\n",
      "[CV] END .model=DecisionTreeClassifier(), model__max_depth=2; total time=   0.0s\n",
      "[CV] END .model=DecisionTreeClassifier(), model__max_depth=3; total time=   0.0s\n",
      "[CV] END .model=DecisionTreeClassifier(), model__max_depth=3; total time=   0.0s\n",
      "[CV] END .model=DecisionTreeClassifier(), model__max_depth=3; total time=   0.0s\n",
      "[CV] END .model=DecisionTreeClassifier(), model__max_depth=3; total time=   0.0s\n",
      "[CV] END model=RandomForestClassifier(max_depth=4, n_estimators=500), model__max_depth=2, model__n_estimators=1500; total time=   3.9s\n",
      "[CV] END model=RandomForestClassifier(max_depth=4, n_estimators=500), model__max_depth=2, model__n_estimators=1500; total time=   4.0s\n",
      "[CV] END model=RandomForestClassifier(max_depth=4, n_estimators=500), model__max_depth=2, model__n_estimators=1500; total time=   4.2s\n",
      "[CV] END model=RandomForestClassifier(max_depth=4, n_estimators=500), model__max_depth=2, model__n_estimators=1500; total time=   4.2s\n",
      "[CV] END model=RandomForestClassifier(max_depth=4, n_estimators=500), model__max_depth=4, model__n_estimators=500; total time=   2.1s\n",
      "[CV] END model=RandomForestClassifier(max_depth=4, n_estimators=500), model__max_depth=4, model__n_estimators=1000; total time=   4.1s\n",
      "[CV] END model=RandomForestClassifier(max_depth=4, n_estimators=500), model__max_depth=4, model__n_estimators=1500; total time=   5.9s\n",
      "[CV] END .................................model=GaussianNB(); total time=   0.0s\n",
      "[CV] END .model=KNeighborsClassifier(), model__n_neighbors=5; total time=   0.1s\n",
      "[CV] END model=KNeighborsClassifier(), model__n_neighbors=25; total time=   0.0s\n",
      "[CV] END model=KNeighborsClassifier(), model__n_neighbors=50; total time=   0.1s\n",
      "[CV] END .model=DecisionTreeClassifier(), model__max_depth=2; total time=   0.0s\n",
      "[CV] END .model=DecisionTreeClassifier(), model__max_depth=2; total time=   0.0s\n",
      "[CV] END .model=DecisionTreeClassifier(), model__max_depth=3; total time=   0.0s\n",
      "[CV] END .model=DecisionTreeClassifier(), model__max_depth=3; total time=   0.0s\n",
      "[CV] END model=RandomForestClassifier(), model__max_depth=2, model__n_estimators=500; total time=   1.3s\n",
      "[CV] END model=RandomForestClassifier(), model__max_depth=2, model__n_estimators=500; total time=   1.3s\n",
      "[CV] END model=RandomForestClassifier(), model__max_depth=3, model__n_estimators=500; total time=   1.6s\n",
      "[CV] END model=RandomForestClassifier(), model__max_depth=3, model__n_estimators=500; total time=   1.6s\n",
      "[CV] END model=RandomForestClassifier(), model__max_depth=3, model__n_estimators=1000; total time=   3.3s\n",
      "[CV] END model=RandomForestClassifier(), model__max_depth=3, model__n_estimators=1000; total time=   3.2s\n",
      "[CV] END model=RandomForestClassifier(), model__max_depth=4, model__n_estimators=500; total time=   2.0s\n",
      "[CV] END model=RandomForestClassifier(), model__max_depth=4, model__n_estimators=500; total time=   2.1s\n",
      "[CV] END model=RandomForestClassifier(), model__max_depth=4, model__n_estimators=500; total time=   1.9s\n",
      "[CV] END model=RandomForestClassifier(), model__max_depth=4, model__n_estimators=500; total time=   1.8s\n",
      "[CV] END .model=KNeighborsClassifier(), model__n_neighbors=5; total time=   0.0s\n",
      "[CV] END model=KNeighborsClassifier(), model__n_neighbors=10; total time=   0.0s\n",
      "[CV] END model=KNeighborsClassifier(), model__n_neighbors=10; total time=   0.0s\n",
      "[CV] END model=KNeighborsClassifier(), model__n_neighbors=50; total time=   0.1s\n",
      "[CV] END model=KNeighborsClassifier(), model__n_neighbors=50; total time=   0.1s\n",
      "[CV] END model=RandomForestClassifier(max_depth=4, n_estimators=500), model__max_depth=2, model__n_estimators=500; total time=   1.3s\n",
      "[CV] END model=RandomForestClassifier(max_depth=4, n_estimators=500), model__max_depth=2, model__n_estimators=500; total time=   1.3s\n",
      "[CV] END model=RandomForestClassifier(max_depth=4, n_estimators=500), model__max_depth=2, model__n_estimators=500; total time=   1.3s\n",
      "[CV] END model=RandomForestClassifier(max_depth=4, n_estimators=500), model__max_depth=2, model__n_estimators=500; total time=   1.3s\n",
      "[CV] END model=RandomForestClassifier(max_depth=4, n_estimators=500), model__max_depth=3, model__n_estimators=1000; total time=   3.4s\n",
      "[CV] END model=RandomForestClassifier(max_depth=4, n_estimators=500), model__max_depth=3, model__n_estimators=1000; total time=   3.5s\n",
      "[CV] END model=RandomForestClassifier(max_depth=4, n_estimators=500), model__max_depth=3, model__n_estimators=1000; total time=   3.4s\n",
      "[CV] END model=RandomForestClassifier(max_depth=4, n_estimators=500), model__max_depth=3, model__n_estimators=1000; total time=   3.4s\n",
      "[CV] END model=RandomForestClassifier(max_depth=4, n_estimators=500), model__max_depth=4, model__n_estimators=1000; total time=   4.0s\n",
      "[CV] END model=RandomForestClassifier(max_depth=4, n_estimators=500), model__max_depth=4, model__n_estimators=1500; total time=   6.0s\n",
      "[CV] END .................................model=GaussianNB(); total time=   0.0s\n",
      "[CV] END model=KNeighborsClassifier(), model__n_neighbors=10; total time=   0.0s\n",
      "[CV] END model=KNeighborsClassifier(), model__n_neighbors=25; total time=   0.0s\n",
      "[CV] END model=KNeighborsClassifier(), model__n_neighbors=50; total time=   0.1s\n",
      "[CV] END .model=DecisionTreeClassifier(), model__max_depth=2; total time=   0.0s\n",
      "[CV] END .model=DecisionTreeClassifier(), model__max_depth=2; total time=   0.0s\n",
      "[CV] END .model=DecisionTreeClassifier(), model__max_depth=4; total time=   0.0s\n",
      "[CV] END .model=DecisionTreeClassifier(), model__max_depth=4; total time=   0.0s\n",
      "[CV] END model=RandomForestClassifier(), model__max_depth=2, model__n_estimators=1000; total time=   2.6s\n",
      "[CV] END model=RandomForestClassifier(), model__max_depth=2, model__n_estimators=1000; total time=   2.6s\n",
      "[CV] END model=RandomForestClassifier(), model__max_depth=2, model__n_estimators=1000; total time=   2.7s\n",
      "[CV] END model=RandomForestClassifier(), model__max_depth=2, model__n_estimators=1000; total time=   2.6s\n",
      "[CV] END model=RandomForestClassifier(), model__max_depth=4, model__n_estimators=500; total time=   1.9s\n",
      "[CV] END model=RandomForestClassifier(), model__max_depth=4, model__n_estimators=500; total time=   2.1s\n",
      "[CV] END model=RandomForestClassifier(), model__max_depth=4, model__n_estimators=500; total time=   2.1s\n",
      "[CV] END model=RandomForestClassifier(), model__max_depth=4, model__n_estimators=500; total time=   1.9s\n",
      "[CV] END .................................model=GaussianNB(); total time=   0.0s\n",
      "[CV] END .................................model=GaussianNB(); total time=   0.0s\n",
      "[CV] END .................................model=GaussianNB(); total time=   0.0s\n",
      "[CV] END .model=KNeighborsClassifier(), model__n_neighbors=5; total time=   0.0s\n",
      "[CV] END model=KNeighborsClassifier(), model__n_neighbors=10; total time=   0.0s\n",
      "[CV] END model=KNeighborsClassifier(), model__n_neighbors=10; total time=   0.0s\n",
      "[CV] END model=KNeighborsClassifier(), model__n_neighbors=50; total time=   0.0s\n",
      "[CV] END model=KNeighborsClassifier(), model__n_neighbors=50; total time=   0.1s\n",
      "[CV] END model=RandomForestClassifier(max_depth=4, n_estimators=500), model__max_depth=2, model__n_estimators=500; total time=   1.3s\n",
      "[CV] END model=RandomForestClassifier(max_depth=4, n_estimators=500), model__max_depth=2, model__n_estimators=500; total time=   1.3s\n",
      "[CV] END model=RandomForestClassifier(max_depth=4, n_estimators=500), model__max_depth=2, model__n_estimators=500; total time=   1.3s\n",
      "[CV] END model=RandomForestClassifier(max_depth=4, n_estimators=500), model__max_depth=2, model__n_estimators=500; total time=   1.3s\n",
      "[CV] END model=RandomForestClassifier(max_depth=4, n_estimators=500), model__max_depth=3, model__n_estimators=1000; total time=   3.5s\n",
      "[CV] END model=RandomForestClassifier(max_depth=4, n_estimators=500), model__max_depth=3, model__n_estimators=1000; total time=   3.6s\n",
      "[CV] END model=RandomForestClassifier(max_depth=4, n_estimators=500), model__max_depth=3, model__n_estimators=1000; total time=   3.6s\n",
      "[CV] END model=RandomForestClassifier(max_depth=4, n_estimators=500), model__max_depth=3, model__n_estimators=1000; total time=   3.5s\n",
      "[CV] END model=RandomForestClassifier(max_depth=4, n_estimators=500), model__max_depth=4, model__n_estimators=1000; total time=   4.0s\n",
      "[CV] END model=RandomForestClassifier(max_depth=4, n_estimators=500), model__max_depth=4, model__n_estimators=1500; total time=   5.8s\n"
     ]
    },
    {
     "name": "stdout",
     "output_type": "stream",
     "text": [
      "[CV] END .................................model=GaussianNB(); total time=   0.0s\n",
      "[CV] END .model=KNeighborsClassifier(), model__n_neighbors=5; total time=   0.0s\n",
      "[CV] END model=KNeighborsClassifier(), model__n_neighbors=10; total time=   0.0s\n",
      "[CV] END model=KNeighborsClassifier(), model__n_neighbors=25; total time=   0.0s\n",
      "[CV] END model=KNeighborsClassifier(), model__n_neighbors=50; total time=   0.0s\n",
      "[CV] END .model=DecisionTreeClassifier(), model__max_depth=3; total time=   0.0s\n",
      "[CV] END .model=DecisionTreeClassifier(), model__max_depth=3; total time=   0.0s\n",
      "[CV] END model=RandomForestClassifier(), model__max_depth=2, model__n_estimators=500; total time=   1.3s\n",
      "[CV] END model=RandomForestClassifier(), model__max_depth=2, model__n_estimators=500; total time=   1.3s\n",
      "[CV] END model=RandomForestClassifier(), model__max_depth=3, model__n_estimators=500; total time=   1.6s\n",
      "[CV] END model=RandomForestClassifier(), model__max_depth=3, model__n_estimators=500; total time=   1.6s\n",
      "[CV] END model=RandomForestClassifier(), model__max_depth=3, model__n_estimators=500; total time=   1.7s\n",
      "[CV] END model=RandomForestClassifier(), model__max_depth=3, model__n_estimators=500; total time=   1.6s\n",
      "[CV] END model=RandomForestClassifier(), model__max_depth=3, model__n_estimators=1500; total time=   5.0s\n",
      "[CV] END model=RandomForestClassifier(), model__max_depth=3, model__n_estimators=1500; total time=   5.0s\n",
      "[CV] END model=RandomForestClassifier(), model__max_depth=3, model__n_estimators=1500; total time=   4.3s\n",
      "[CV] END model=RandomForestClassifier(), model__max_depth=3, model__n_estimators=1500; total time=   4.2s\n",
      "[CV] END .................................model=GaussianNB(); total time=   0.0s\n",
      "[CV] END .................................model=GaussianNB(); total time=   0.0s\n",
      "[CV] END .model=KNeighborsClassifier(), model__n_neighbors=5; total time=   0.0s\n",
      "[CV] END .model=KNeighborsClassifier(), model__n_neighbors=5; total time=   0.0s\n",
      "[CV] END model=KNeighborsClassifier(), model__n_neighbors=25; total time=   0.0s\n",
      "[CV] END model=KNeighborsClassifier(), model__n_neighbors=25; total time=   0.0s\n",
      "[CV] END .model=DecisionTreeClassifier(), model__max_depth=2; total time=   0.0s\n",
      "[CV] END .model=DecisionTreeClassifier(), model__max_depth=2; total time=   0.0s\n",
      "[CV] END .model=DecisionTreeClassifier(), model__max_depth=4; total time=   0.0s\n",
      "[CV] END .model=DecisionTreeClassifier(), model__max_depth=4; total time=   0.0s\n",
      "[CV] END .model=DecisionTreeClassifier(), model__max_depth=4; total time=   0.0s\n",
      "[CV] END .model=DecisionTreeClassifier(), model__max_depth=4; total time=   0.0s\n",
      "[CV] END model=RandomForestClassifier(max_depth=4, n_estimators=500), model__max_depth=3, model__n_estimators=500; total time=   1.6s\n",
      "[CV] END model=RandomForestClassifier(max_depth=4, n_estimators=500), model__max_depth=3, model__n_estimators=500; total time=   1.6s\n",
      "[CV] END model=RandomForestClassifier(max_depth=4, n_estimators=500), model__max_depth=3, model__n_estimators=500; total time=   1.6s\n",
      "[CV] END model=RandomForestClassifier(max_depth=4, n_estimators=500), model__max_depth=3, model__n_estimators=500; total time=   1.7s\n",
      "[CV] END model=RandomForestClassifier(max_depth=4, n_estimators=500), model__max_depth=3, model__n_estimators=1000; total time=   3.6s\n",
      "[CV] END model=RandomForestClassifier(max_depth=4, n_estimators=500), model__max_depth=3, model__n_estimators=1000; total time=   3.6s\n",
      "[CV] END model=RandomForestClassifier(max_depth=4, n_estimators=500), model__max_depth=3, model__n_estimators=1500; total time=   5.2s\n",
      "[CV] END model=RandomForestClassifier(max_depth=4, n_estimators=500), model__max_depth=3, model__n_estimators=1500; total time=   5.0s\n",
      "[CV] END model=RandomForestClassifier(max_depth=4, n_estimators=500), model__max_depth=4, model__n_estimators=1500; total time=   5.7s\n",
      "[CV] END .................................model=GaussianNB(); total time=   0.0s\n",
      "[CV] END .model=KNeighborsClassifier(), model__n_neighbors=5; total time=   0.0s\n",
      "[CV] END model=KNeighborsClassifier(), model__n_neighbors=10; total time=   0.0s\n",
      "[CV] END model=KNeighborsClassifier(), model__n_neighbors=10; total time=   0.0s\n",
      "[CV] END model=KNeighborsClassifier(), model__n_neighbors=25; total time=   0.0s\n",
      "[CV] END model=KNeighborsClassifier(), model__n_neighbors=50; total time=   0.1s\n",
      "[CV] END .model=DecisionTreeClassifier(), model__max_depth=3; total time=   0.0s\n",
      "[CV] END .model=DecisionTreeClassifier(), model__max_depth=3; total time=   0.0s\n",
      "[CV] END model=RandomForestClassifier(), model__max_depth=2, model__n_estimators=500; total time=   1.4s\n",
      "[CV] END model=RandomForestClassifier(), model__max_depth=2, model__n_estimators=500; total time=   1.3s\n",
      "[CV] END model=RandomForestClassifier(), model__max_depth=3, model__n_estimators=1000; total time=   3.4s\n",
      "[CV] END model=RandomForestClassifier(), model__max_depth=3, model__n_estimators=1000; total time=   3.3s\n",
      "[CV] END model=RandomForestClassifier(), model__max_depth=3, model__n_estimators=1000; total time=   3.2s\n",
      "[CV] END model=RandomForestClassifier(), model__max_depth=3, model__n_estimators=1000; total time=   3.5s\n",
      "[CV] END model=RandomForestClassifier(), model__max_depth=4, model__n_estimators=1500; total time=   5.4s\n",
      "[CV] END model=RandomForestClassifier(), model__max_depth=4, model__n_estimators=1500; total time=   5.1s\n",
      "[CV] END model=RandomForestClassifier(), model__max_depth=4, model__n_estimators=1500; total time=   5.0s\n",
      "[CV] END model=RandomForestClassifier(), model__max_depth=4, model__n_estimators=1500; total time=   4.9s\n",
      "[CV] END .................................model=GaussianNB(); total time=   0.0s\n",
      "[CV] END .................................model=GaussianNB(); total time=   0.0s\n",
      "[CV] END .model=KNeighborsClassifier(), model__n_neighbors=5; total time=   0.0s\n",
      "[CV] END model=KNeighborsClassifier(), model__n_neighbors=25; total time=   0.0s\n",
      "[CV] END model=KNeighborsClassifier(), model__n_neighbors=25; total time=   0.0s\n",
      "[CV] END .model=DecisionTreeClassifier(), model__max_depth=2; total time=   0.0s\n",
      "[CV] END .model=DecisionTreeClassifier(), model__max_depth=2; total time=   0.0s\n",
      "[CV] END .model=DecisionTreeClassifier(), model__max_depth=3; total time=   0.0s\n",
      "[CV] END .model=DecisionTreeClassifier(), model__max_depth=3; total time=   0.0s\n",
      "[CV] END .model=DecisionTreeClassifier(), model__max_depth=3; total time=   0.0s\n",
      "[CV] END .model=DecisionTreeClassifier(), model__max_depth=3; total time=   0.0s\n",
      "[CV] END model=RandomForestClassifier(max_depth=4, n_estimators=500), model__max_depth=2, model__n_estimators=1500; total time=   3.9s\n",
      "[CV] END model=RandomForestClassifier(max_depth=4, n_estimators=500), model__max_depth=2, model__n_estimators=1500; total time=   4.1s\n",
      "[CV] END model=RandomForestClassifier(max_depth=4, n_estimators=500), model__max_depth=2, model__n_estimators=1500; total time=   4.4s\n",
      "[CV] END model=RandomForestClassifier(max_depth=4, n_estimators=500), model__max_depth=2, model__n_estimators=1500; total time=   4.3s\n",
      "[CV] END model=RandomForestClassifier(max_depth=4, n_estimators=500), model__max_depth=4, model__n_estimators=1000; total time=   4.2s\n",
      "[CV] END model=RandomForestClassifier(max_depth=4, n_estimators=500), model__max_depth=4, model__n_estimators=1000; total time=   3.9s\n",
      "[CV] END model=RandomForestClassifier(max_depth=4, n_estimators=500), model__max_depth=4, model__n_estimators=1500; total time=   5.8s\n",
      "[CV] END .................................model=GaussianNB(); total time=   0.0s\n",
      "[CV] END .model=KNeighborsClassifier(), model__n_neighbors=5; total time=   0.0s\n",
      "[CV] END model=KNeighborsClassifier(), model__n_neighbors=10; total time=   0.0s\n",
      "[CV] END model=KNeighborsClassifier(), model__n_neighbors=25; total time=   0.0s\n",
      "[CV] END model=KNeighborsClassifier(), model__n_neighbors=50; total time=   0.1s\n",
      "[CV] END .model=DecisionTreeClassifier(), model__max_depth=4; total time=   0.0s\n",
      "[CV] END .model=DecisionTreeClassifier(), model__max_depth=4; total time=   0.0s\n",
      "[CV] END model=RandomForestClassifier(), model__max_depth=2, model__n_estimators=1000; total time=   2.6s\n",
      "[CV] END model=RandomForestClassifier(), model__max_depth=2, model__n_estimators=1000; total time=   2.5s\n",
      "[CV] END model=RandomForestClassifier(), model__max_depth=2, model__n_estimators=1500; total time=   3.9s\n",
      "[CV] END model=RandomForestClassifier(), model__max_depth=2, model__n_estimators=1500; total time=   3.8s\n",
      "[CV] END model=RandomForestClassifier(), model__max_depth=4, model__n_estimators=1000; total time=   4.1s\n",
      "[CV] END model=RandomForestClassifier(), model__max_depth=4, model__n_estimators=1000; total time=   3.6s\n",
      "[CV] END model=RandomForestClassifier(), model__max_depth=4, model__n_estimators=1000; total time=   3.3s\n",
      "[CV] END model=RandomForestClassifier(), model__max_depth=4, model__n_estimators=1000; total time=   3.4s\n",
      "[CV] END .................................model=GaussianNB(); total time=   0.0s\n",
      "[CV] END .................................model=GaussianNB(); total time=   0.0s\n",
      "[CV] END .model=KNeighborsClassifier(), model__n_neighbors=5; total time=   0.0s\n",
      "[CV] END model=KNeighborsClassifier(), model__n_neighbors=10; total time=   0.0s\n",
      "[CV] END model=KNeighborsClassifier(), model__n_neighbors=10; total time=   0.0s\n",
      "[CV] END model=KNeighborsClassifier(), model__n_neighbors=50; total time=   0.1s\n",
      "[CV] END model=KNeighborsClassifier(), model__n_neighbors=50; total time=   0.1s\n",
      "[CV] END model=RandomForestClassifier(max_depth=4, n_estimators=500), model__max_depth=2, model__n_estimators=1000; total time=   2.5s\n",
      "[CV] END model=RandomForestClassifier(max_depth=4, n_estimators=500), model__max_depth=2, model__n_estimators=1000; total time=   2.5s\n",
      "[CV] END model=RandomForestClassifier(max_depth=4, n_estimators=500), model__max_depth=2, model__n_estimators=1000; total time=   2.6s\n",
      "[CV] END model=RandomForestClassifier(max_depth=4, n_estimators=500), model__max_depth=2, model__n_estimators=1000; total time=   3.1s\n",
      "[CV] END model=RandomForestClassifier(max_depth=4, n_estimators=500), model__max_depth=4, model__n_estimators=500; total time=   2.0s\n",
      "[CV] END model=RandomForestClassifier(max_depth=4, n_estimators=500), model__max_depth=4, model__n_estimators=500; total time=   2.2s\n",
      "[CV] END model=RandomForestClassifier(max_depth=4, n_estimators=500), model__max_depth=4, model__n_estimators=500; total time=   2.0s\n",
      "[CV] END model=RandomForestClassifier(max_depth=4, n_estimators=500), model__max_depth=4, model__n_estimators=1000; total time=   4.2s\n",
      "[CV] END model=RandomForestClassifier(max_depth=4, n_estimators=500), model__max_depth=4, model__n_estimators=1000; total time=   3.9s\n",
      "[CV] END model=RandomForestClassifier(max_depth=4, n_estimators=500), model__max_depth=4, model__n_estimators=1500; total time=   5.7s\n",
      "[CV] END .................................model=GaussianNB(); total time=   0.0s\n",
      "[CV] END .model=KNeighborsClassifier(), model__n_neighbors=5; total time=   0.0s\n",
      "[CV] END model=KNeighborsClassifier(), model__n_neighbors=10; total time=   0.0s\n",
      "[CV] END model=KNeighborsClassifier(), model__n_neighbors=25; total time=   0.0s\n",
      "[CV] END model=KNeighborsClassifier(), model__n_neighbors=50; total time=   0.1s\n",
      "[CV] END .model=DecisionTreeClassifier(), model__max_depth=3; total time=   0.0s\n",
      "[CV] END .model=DecisionTreeClassifier(), model__max_depth=3; total time=   0.0s\n",
      "[CV] END model=RandomForestClassifier(), model__max_depth=2, model__n_estimators=500; total time=   1.3s\n",
      "[CV] END model=RandomForestClassifier(), model__max_depth=2, model__n_estimators=500; total time=   1.3s\n",
      "[CV] END model=RandomForestClassifier(), model__max_depth=3, model__n_estimators=500; total time=   1.7s\n",
      "[CV] END model=RandomForestClassifier(), model__max_depth=3, model__n_estimators=500; total time=   1.6s\n",
      "[CV] END model=RandomForestClassifier(), model__max_depth=3, model__n_estimators=500; total time=   1.7s\n",
      "[CV] END model=RandomForestClassifier(), model__max_depth=3, model__n_estimators=500; total time=   1.6s\n",
      "[CV] END model=RandomForestClassifier(), model__max_depth=3, model__n_estimators=1500; total time=   5.0s\n",
      "[CV] END model=RandomForestClassifier(), model__max_depth=3, model__n_estimators=1500; total time=   4.9s\n",
      "[CV] END model=RandomForestClassifier(), model__max_depth=3, model__n_estimators=1500; total time=   4.3s\n",
      "[CV] END model=RandomForestClassifier(), model__max_depth=3, model__n_estimators=1500; total time=   4.2s\n",
      "[CV] END .model=KNeighborsClassifier(), model__n_neighbors=5; total time=   0.0s\n",
      "[CV] END model=KNeighborsClassifier(), model__n_neighbors=10; total time=   0.0s\n",
      "[CV] END model=KNeighborsClassifier(), model__n_neighbors=10; total time=   0.0s\n",
      "[CV] END model=KNeighborsClassifier(), model__n_neighbors=50; total time=   0.1s\n",
      "[CV] END model=KNeighborsClassifier(), model__n_neighbors=50; total time=   0.1s\n",
      "[CV] END model=RandomForestClassifier(max_depth=4, n_estimators=500), model__max_depth=2, model__n_estimators=1000; total time=   2.6s\n",
      "[CV] END model=RandomForestClassifier(max_depth=4, n_estimators=500), model__max_depth=2, model__n_estimators=1000; total time=   2.5s\n",
      "[CV] END model=RandomForestClassifier(max_depth=4, n_estimators=500), model__max_depth=2, model__n_estimators=1000; total time=   2.7s\n",
      "[CV] END model=RandomForestClassifier(max_depth=4, n_estimators=500), model__max_depth=2, model__n_estimators=1000; total time=   3.0s\n",
      "[CV] END model=RandomForestClassifier(max_depth=4, n_estimators=500), model__max_depth=4, model__n_estimators=500; total time=   2.0s\n",
      "[CV] END model=RandomForestClassifier(max_depth=4, n_estimators=500), model__max_depth=4, model__n_estimators=500; total time=   2.2s\n",
      "[CV] END model=RandomForestClassifier(max_depth=4, n_estimators=500), model__max_depth=4, model__n_estimators=500; total time=   2.0s\n",
      "[CV] END model=RandomForestClassifier(max_depth=4, n_estimators=500), model__max_depth=4, model__n_estimators=1000; total time=   4.3s\n",
      "[CV] END model=RandomForestClassifier(max_depth=4, n_estimators=500), model__max_depth=4, model__n_estimators=1000; total time=   3.8s\n",
      "[CV] END model=RandomForestClassifier(max_depth=4, n_estimators=500), model__max_depth=4, model__n_estimators=1500; total time=   5.7s\n"
     ]
    },
    {
     "name": "stdout",
     "output_type": "stream",
     "text": [
      "[CV] END .................................model=GaussianNB(); total time=   0.0s\n",
      "[CV] END .model=KNeighborsClassifier(), model__n_neighbors=5; total time=   0.0s\n",
      "[CV] END model=KNeighborsClassifier(), model__n_neighbors=10; total time=   0.0s\n",
      "[CV] END model=KNeighborsClassifier(), model__n_neighbors=25; total time=   0.0s\n",
      "[CV] END model=KNeighborsClassifier(), model__n_neighbors=50; total time=   0.0s\n",
      "[CV] END .model=DecisionTreeClassifier(), model__max_depth=2; total time=   0.0s\n",
      "[CV] END .model=DecisionTreeClassifier(), model__max_depth=2; total time=   0.0s\n",
      "[CV] END .model=DecisionTreeClassifier(), model__max_depth=4; total time=   0.0s\n",
      "[CV] END .model=DecisionTreeClassifier(), model__max_depth=4; total time=   0.0s\n",
      "[CV] END model=RandomForestClassifier(), model__max_depth=2, model__n_estimators=1500; total time=   3.9s\n",
      "[CV] END model=RandomForestClassifier(), model__max_depth=2, model__n_estimators=1500; total time=   4.0s\n",
      "[CV] END model=RandomForestClassifier(), model__max_depth=2, model__n_estimators=1500; total time=   3.9s\n",
      "[CV] END model=RandomForestClassifier(), model__max_depth=2, model__n_estimators=1500; total time=   4.3s\n",
      "[CV] END model=RandomForestClassifier(), model__max_depth=4, model__n_estimators=1500; total time=   5.3s\n",
      "[CV] END model=RandomForestClassifier(), model__max_depth=4, model__n_estimators=1500; total time=   5.0s\n",
      "[CV] END model=RandomForestClassifier(), model__max_depth=4, model__n_estimators=1500; total time=   5.0s\n",
      "[CV] END model=RandomForestClassifier(), model__max_depth=4, model__n_estimators=1500; total time=   4.8s\n",
      "[CV] END .model=KNeighborsClassifier(), model__n_neighbors=5; total time=   0.0s\n",
      "[CV] END model=KNeighborsClassifier(), model__n_neighbors=25; total time=   0.0s\n",
      "[CV] END model=KNeighborsClassifier(), model__n_neighbors=25; total time=   0.0s\n",
      "[CV] END .model=DecisionTreeClassifier(), model__max_depth=2; total time=   0.0s\n",
      "[CV] END .model=DecisionTreeClassifier(), model__max_depth=2; total time=   0.0s\n",
      "[CV] END .model=DecisionTreeClassifier(), model__max_depth=4; total time=   0.0s\n",
      "[CV] END .model=DecisionTreeClassifier(), model__max_depth=4; total time=   0.0s\n",
      "[CV] END .model=DecisionTreeClassifier(), model__max_depth=4; total time=   0.0s\n",
      "[CV] END .model=DecisionTreeClassifier(), model__max_depth=4; total time=   0.0s\n",
      "[CV] END model=RandomForestClassifier(max_depth=4, n_estimators=500), model__max_depth=3, model__n_estimators=500; total time=   1.6s\n",
      "[CV] END model=RandomForestClassifier(max_depth=4, n_estimators=500), model__max_depth=3, model__n_estimators=500; total time=   1.6s\n",
      "[CV] END model=RandomForestClassifier(max_depth=4, n_estimators=500), model__max_depth=3, model__n_estimators=500; total time=   1.6s\n",
      "[CV] END model=RandomForestClassifier(max_depth=4, n_estimators=500), model__max_depth=3, model__n_estimators=500; total time=   1.7s\n",
      "[CV] END model=RandomForestClassifier(max_depth=4, n_estimators=500), model__max_depth=3, model__n_estimators=1500; total time=   5.3s\n",
      "[CV] END model=RandomForestClassifier(max_depth=4, n_estimators=500), model__max_depth=3, model__n_estimators=1500; total time=   5.1s\n",
      "[CV] END model=RandomForestClassifier(max_depth=4, n_estimators=500), model__max_depth=3, model__n_estimators=1500; total time=   5.2s\n",
      "[CV] END model=RandomForestClassifier(max_depth=4, n_estimators=500), model__max_depth=3, model__n_estimators=1500; total time=   5.0s\n",
      "[CV] END model=RandomForestClassifier(max_depth=4, n_estimators=500), model__max_depth=4, model__n_estimators=1500; total time=   5.3s\n",
      "[CV] END .................................model=GaussianNB(); total time=   0.0s\n",
      "[CV] END .model=KNeighborsClassifier(), model__n_neighbors=5; total time=   0.0s\n",
      "[CV] END model=KNeighborsClassifier(), model__n_neighbors=10; total time=   0.0s\n",
      "[CV] END model=KNeighborsClassifier(), model__n_neighbors=25; total time=   0.0s\n",
      "[CV] END model=KNeighborsClassifier(), model__n_neighbors=50; total time=   0.0s\n",
      "[CV] END .model=DecisionTreeClassifier(), model__max_depth=2; total time=   0.0s\n",
      "[CV] END .model=DecisionTreeClassifier(), model__max_depth=2; total time=   0.0s\n",
      "[CV] END .model=DecisionTreeClassifier(), model__max_depth=4; total time=   0.0s\n",
      "[CV] END .model=DecisionTreeClassifier(), model__max_depth=4; total time=   0.0s\n",
      "[CV] END model=RandomForestClassifier(), model__max_depth=2, model__n_estimators=1500; total time=   4.0s\n",
      "[CV] END model=RandomForestClassifier(), model__max_depth=2, model__n_estimators=1500; total time=   4.0s\n",
      "[CV] END model=RandomForestClassifier(), model__max_depth=2, model__n_estimators=1500; total time=   3.9s\n",
      "[CV] END model=RandomForestClassifier(), model__max_depth=2, model__n_estimators=1500; total time=   4.2s\n",
      "[CV] END model=RandomForestClassifier(), model__max_depth=4, model__n_estimators=1000; total time=   3.8s\n",
      "[CV] END model=RandomForestClassifier(), model__max_depth=4, model__n_estimators=1000; total time=   3.4s\n",
      "[CV] END model=RandomForestClassifier(), model__max_depth=4, model__n_estimators=1500; total time=   5.1s\n",
      "[CV] END model=RandomForestClassifier(), model__max_depth=4, model__n_estimators=1500; total time=   4.9s\n",
      "[CV] END .................................model=GaussianNB(); total time=   0.0s\n",
      "[CV] END .model=KNeighborsClassifier(), model__n_neighbors=5; total time=   0.0s\n",
      "[CV] END model=KNeighborsClassifier(), model__n_neighbors=25; total time=   0.0s\n",
      "[CV] END model=KNeighborsClassifier(), model__n_neighbors=25; total time=   0.0s\n",
      "[CV] END .model=DecisionTreeClassifier(), model__max_depth=2; total time=   0.0s\n",
      "[CV] END .model=DecisionTreeClassifier(), model__max_depth=2; total time=   0.0s\n",
      "[CV] END .model=DecisionTreeClassifier(), model__max_depth=3; total time=   0.0s\n",
      "[CV] END .model=DecisionTreeClassifier(), model__max_depth=3; total time=   0.0s\n",
      "[CV] END .model=DecisionTreeClassifier(), model__max_depth=4; total time=   0.0s\n",
      "[CV] END .model=DecisionTreeClassifier(), model__max_depth=4; total time=   0.0s\n",
      "[CV] END model=RandomForestClassifier(max_depth=4, n_estimators=500), model__max_depth=2, model__n_estimators=1500; total time=   3.9s\n",
      "[CV] END model=RandomForestClassifier(max_depth=4, n_estimators=500), model__max_depth=2, model__n_estimators=1500; total time=   4.0s\n",
      "[CV] END model=RandomForestClassifier(max_depth=4, n_estimators=500), model__max_depth=3, model__n_estimators=500; total time=   1.8s\n",
      "[CV] END model=RandomForestClassifier(max_depth=4, n_estimators=500), model__max_depth=3, model__n_estimators=500; total time=   1.8s\n",
      "[CV] END model=RandomForestClassifier(max_depth=4, n_estimators=500), model__max_depth=4, model__n_estimators=500; total time=   2.0s\n",
      "[CV] END model=RandomForestClassifier(max_depth=4, n_estimators=500), model__max_depth=4, model__n_estimators=500; total time=   2.1s\n",
      "[CV] END model=RandomForestClassifier(max_depth=4, n_estimators=500), model__max_depth=4, model__n_estimators=500; total time=   2.1s\n",
      "[CV] END model=RandomForestClassifier(max_depth=4, n_estimators=500), model__max_depth=4, model__n_estimators=1000; total time=   4.0s\n",
      "[CV] END model=RandomForestClassifier(max_depth=4, n_estimators=500), model__max_depth=4, model__n_estimators=1500; total time=   5.9s\n",
      "[CV] END model=RandomForestClassifier(max_depth=4, n_estimators=500), model__max_depth=4, model__n_estimators=1500; total time=   5.2s\n"
     ]
    }
   ],
   "source": [
    "y_pred = model.predict(test_X)"
   ]
  },
  {
   "cell_type": "code",
   "execution_count": 36,
   "id": "62623a71",
   "metadata": {},
   "outputs": [],
   "source": [
    "d = {'id': test_id,'prediction':y_pred}\n"
   ]
  },
  {
   "cell_type": "code",
   "execution_count": 39,
   "id": "1313371d",
   "metadata": {},
   "outputs": [
    {
     "data": {
      "text/html": [
       "<div>\n",
       "<style scoped>\n",
       "    .dataframe tbody tr th:only-of-type {\n",
       "        vertical-align: middle;\n",
       "    }\n",
       "\n",
       "    .dataframe tbody tr th {\n",
       "        vertical-align: top;\n",
       "    }\n",
       "\n",
       "    .dataframe thead th {\n",
       "        text-align: right;\n",
       "    }\n",
       "</style>\n",
       "<table border=\"1\" class=\"dataframe\">\n",
       "  <thead>\n",
       "    <tr style=\"text-align: right;\">\n",
       "      <th></th>\n",
       "      <th>id</th>\n",
       "      <th>prediction</th>\n",
       "    </tr>\n",
       "  </thead>\n",
       "  <tbody>\n",
       "    <tr>\n",
       "      <th>8539</th>\n",
       "      <td>8913</td>\n",
       "      <td>0</td>\n",
       "    </tr>\n",
       "    <tr>\n",
       "      <th>3585</th>\n",
       "      <td>3739</td>\n",
       "      <td>1</td>\n",
       "    </tr>\n",
       "    <tr>\n",
       "      <th>13200</th>\n",
       "      <td>13772</td>\n",
       "      <td>1</td>\n",
       "    </tr>\n",
       "    <tr>\n",
       "      <th>5715</th>\n",
       "      <td>5957</td>\n",
       "      <td>1</td>\n",
       "    </tr>\n",
       "    <tr>\n",
       "      <th>7592</th>\n",
       "      <td>7922</td>\n",
       "      <td>0</td>\n",
       "    </tr>\n",
       "  </tbody>\n",
       "</table>\n",
       "</div>"
      ],
      "text/plain": [
       "          id  prediction\n",
       "8539    8913           0\n",
       "3585    3739           1\n",
       "13200  13772           1\n",
       "5715    5957           1\n",
       "7592    7922           0"
      ]
     },
     "execution_count": 39,
     "metadata": {},
     "output_type": "execute_result"
    }
   ],
   "source": [
    "submission = pd.DataFrame(d)\n",
    "submission.head()"
   ]
  },
  {
   "cell_type": "code",
   "execution_count": 41,
   "id": "72de68ce",
   "metadata": {},
   "outputs": [],
   "source": [
    "submission.to_csv(\"../07_data_staged/submission.csv\", index=False)"
   ]
  },
  {
   "cell_type": "markdown",
   "id": "6fc81de8",
   "metadata": {},
   "source": [
    "# Performance metrics on test set"
   ]
  },
  {
   "cell_type": "code",
   "execution_count": 43,
   "id": "9ad4caab",
   "metadata": {},
   "outputs": [
    {
     "data": {
      "text/plain": [
       "0.6448651749856569"
      ]
     },
     "execution_count": 43,
     "metadata": {},
     "output_type": "execute_result"
    }
   ],
   "source": [
    "# Accuracy score on test set\n",
    "m.accuracy_score(test_y,y_pred)"
   ]
  },
  {
   "cell_type": "code",
   "execution_count": 44,
   "id": "e3fcae4c",
   "metadata": {},
   "outputs": [
    {
     "data": {
      "text/plain": [
       "0.6452252273015361"
      ]
     },
     "execution_count": 44,
     "metadata": {},
     "output_type": "execute_result"
    }
   ],
   "source": [
    "# ROC AUC score\n",
    "m.roc_auc_score(test_y,y_pred)"
   ]
  },
  {
   "cell_type": "code",
   "execution_count": null,
   "id": "4a4c31c4",
   "metadata": {},
   "outputs": [],
   "source": []
  }
 ],
 "metadata": {
  "kernelspec": {
   "display_name": "Python [conda env:text-data-class]",
   "language": "python",
   "name": "conda-env-text-data-class-py"
  },
  "language_info": {
   "codemirror_mode": {
    "name": "ipython",
    "version": 3
   },
   "file_extension": ".py",
   "mimetype": "text/x-python",
   "name": "python",
   "nbconvert_exporter": "python",
   "pygments_lexer": "ipython3",
   "version": "3.9.9"
  }
 },
 "nbformat": 4,
 "nbformat_minor": 5
}
