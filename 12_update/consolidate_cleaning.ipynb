{
 "cells": [
  {
   "cell_type": "code",
   "execution_count": 1,
   "id": "ded9d1b8",
   "metadata": {},
   "outputs": [],
   "source": [
    "import pandas as pd\n",
    "import numpy as np\n",
    "from pandas import CategoricalDtype"
   ]
  },
  {
   "cell_type": "code",
   "execution_count": 2,
   "id": "0b32ed06",
   "metadata": {},
   "outputs": [],
   "source": [
    "# Set custom colors\n",
    "nfl_red = \"#d50a0a\"\n",
    "nfl_blue = \"#013369\""
   ]
  },
  {
   "cell_type": "code",
   "execution_count": 3,
   "id": "c6c93d0c",
   "metadata": {},
   "outputs": [],
   "source": [
    "# Import the dyadic data\n",
    "df = pd.read_csv(\"../07_data_staged/dyadic_data.csv\")"
   ]
  },
  {
   "cell_type": "code",
   "execution_count": 4,
   "id": "33abe6a8",
   "metadata": {},
   "outputs": [],
   "source": [
    "# Convert Time_rest to time delta\n",
    "df[\"Time_rest\"] = pd.to_timedelta(df[\"Time_rest\"])\n",
    "\n",
    "# Convert Time_rest to number of hours\n",
    "df['Time_rest_hours'] = df['Time_rest'] / np.timedelta64(1, 'h')\n",
    "\n",
    "# Convert number of hours to days\n",
    "df['Time_rest_days'] = df['Time_rest_hours'] / 24"
   ]
  },
  {
   "cell_type": "code",
   "execution_count": 5,
   "id": "7f2341f6",
   "metadata": {},
   "outputs": [],
   "source": [
    "#Drop Tie\n",
    "df = df[df.Game_pts_diff!=0]\n",
    "\n",
    "\n",
    "#Win\n",
    "df[\"Win\"] = 1*(df.Game_pts_diff > 0)"
   ]
  },
  {
   "cell_type": "code",
   "execution_count": 6,
   "id": "f0780541",
   "metadata": {},
   "outputs": [],
   "source": [
    "# Convert categorial variables to categories\n",
    "for col in ['Week','Game_type','Surface','Game_outcome','Rivalry','Same_surface','Field']: df[col] = df[col].astype(\"category\")\n"
   ]
  },
  {
   "cell_type": "code",
   "execution_count": 7,
   "id": "7201448e",
   "metadata": {},
   "outputs": [],
   "source": [
    "# Time rest\n",
    "# Set time rest for Week 1 as the longest time a team has to rest during the regular season\n",
    "time_rest_max = df.groupby([\"Season\",\"Game_type\"])[\"Time_rest\"].max().reset_index(name=\"Time_rest_max\")\n",
    "time_rest_max = time_rest_max.loc[time_rest_max.Game_type==\"Regular\"]\n",
    "time_rest_max.drop(columns=\"Game_type\", inplace=True)\n",
    "\n",
    "# Merge to df\n",
    "df = pd.merge(df,time_rest_max, on=[\"Season\"], how = \"left\")\n",
    "\n",
    "# Fill NA\n",
    "df[\"Time_rest\"] = df[\"Time_rest\"].fillna(df[\"Time_rest_max\"])\n",
    "\n",
    "# Convert Time_rest to number of hours\n",
    "df['Time_rest_hours'] = df['Time_rest'] / np.timedelta64(1, 'h')\n",
    "\n",
    "# Convert number of hours to days\n",
    "df['Time_rest_days'] = df['Time_rest_hours'] / 24\n",
    "\n",
    "# Drop Time_rest_max\n",
    "df.drop(columns = \"Time_rest_max\", inplace = True)"
   ]
  },
  {
   "cell_type": "code",
   "execution_count": 8,
   "id": "6dda75ed",
   "metadata": {},
   "outputs": [
    {
     "data": {
      "text/plain": [
       "0    7201\n",
       "1    3680\n",
       "2    3679\n",
       "Name: Miles, dtype: int64"
      ]
     },
     "execution_count": 8,
     "metadata": {},
     "output_type": "execute_result"
    }
   ],
   "source": [
    "df.loc[df[\"Miles_traveled\"]>0, 'Miles_traveled'].quantile()\n",
    "dir(df.loc[df[\"Miles_traveled\"]>0, 'Miles_traveled'])\n",
    "\n",
    "# Miles\n",
    "median_miles = df.loc[df[\"Miles_traveled\"]>0, 'Miles_traveled'].median()\n",
    "df[\"Miles\"] = np.where(df['Miles_traveled']==0,0,np.where(df['Miles_traveled'] <= median_miles,1,2))\n",
    "df.Miles.value_counts()"
   ]
  },
  {
   "cell_type": "code",
   "execution_count": 9,
   "id": "52ccc9c5",
   "metadata": {},
   "outputs": [],
   "source": [
    "# Timerest\n",
    "df[\"Time_rest_ordinal\"] = np.where(df[\"Time_rest_days\"] == 7, 1, np.where(df[\"Time_rest_days\"] < 7, 0, 2))\n"
   ]
  },
  {
   "cell_type": "code",
   "execution_count": 10,
   "id": "674c00b9",
   "metadata": {},
   "outputs": [],
   "source": [
    "rival = ['No','Conference','Division']\n",
    "rival_types = CategoricalDtype(categories=rival, ordered=True)\n",
    "df['Rivalry'] = df['Rivalry'].astype(rival_types)\n",
    "df['Rivalry'] = df['Rivalry'].cat.codes"
   ]
  },
  {
   "cell_type": "code",
   "execution_count": 11,
   "id": "892eae22",
   "metadata": {},
   "outputs": [],
   "source": [
    "df['Division_Rival'] = 1*(df[\"Rivalry\"] == 2)\n",
    "df['Conference_Rival'] = 1*(df[\"Rivalry\"] == 1)"
   ]
  },
  {
   "cell_type": "code",
   "execution_count": 12,
   "id": "3fb333ed",
   "metadata": {},
   "outputs": [],
   "source": [
    "# Grass\n",
    "df[\"Grass\"] = 1*(df[\"Surface\"] == \"Grass\")\n",
    "\n",
    "# Home\n",
    "df[\"Home\"] = 1*(df[\"Field\"] == \"Home\")\n",
    "\n",
    "# Same surface as the team's home field\n",
    "df[\"Same_surface\"] = 1*(df[\"Same_surface\"] == \"Yes\")\n"
   ]
  },
  {
   "cell_type": "code",
   "execution_count": 13,
   "id": "67c2ecd7",
   "metadata": {},
   "outputs": [],
   "source": [
    "# Order the weeks\n",
    "df[\"Week\"].unique()\n",
    "week = ['1','2','3','4','5','6','7','8','9','10','11','12','13','14','15','16','17','18','WildCard','Division','ConfChamp','SuperBowl']\n",
    "\n",
    "week_types = CategoricalDtype(categories=week, ordered=True)\n",
    "df['Week'] = df['Week'].astype(week_types)\n",
    "df['Week'] = df['Week'].cat.codes\n"
   ]
  },
  {
   "cell_type": "code",
   "execution_count": 14,
   "id": "c430fb2b",
   "metadata": {},
   "outputs": [],
   "source": [
    "playoff = df.loc[df.Game_type != \"Regular\"]\n",
    "reg = df.loc[df.Game_type == \"Regular\"]"
   ]
  },
  {
   "cell_type": "code",
   "execution_count": 15,
   "id": "9e4f8c44",
   "metadata": {},
   "outputs": [],
   "source": [
    "reg = reg[['Week', 'Season','Team_A', 'Team_B',\n",
    "         'Game_TO','Game_yds', 'Game_pts_diff', 'Game_yards_diff',\n",
    "         'Time_rest_hours', 'Miles_traveled',\n",
    "         'Division_Rival','Conference_Rival',\n",
    "         'Grass', 'Home','Time_diff','Same_surface', 'Attendance', 'Capacity','Attendance_pct',\n",
    "         'Season_SRS', 'Season_SoS', 'Season_offense','Season_defense',\n",
    "        'Win']]"
   ]
  },
  {
   "cell_type": "code",
   "execution_count": 16,
   "id": "60890b6a",
   "metadata": {},
   "outputs": [],
   "source": [
    "reg.to_csv(\"../07_data_staged/clean_data.csv\", index=True, index_label='id')"
   ]
  },
  {
   "cell_type": "code",
   "execution_count": null,
   "id": "6e1a771e",
   "metadata": {},
   "outputs": [],
   "source": []
  }
 ],
 "metadata": {
  "kernelspec": {
   "display_name": "Python [conda env:text-data-class]",
   "language": "python",
   "name": "conda-env-text-data-class-py"
  },
  "language_info": {
   "codemirror_mode": {
    "name": "ipython",
    "version": 3
   },
   "file_extension": ".py",
   "mimetype": "text/x-python",
   "name": "python",
   "nbconvert_exporter": "python",
   "pygments_lexer": "ipython3",
   "version": "3.9.9"
  }
 },
 "nbformat": 4,
 "nbformat_minor": 5
}
